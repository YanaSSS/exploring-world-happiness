{
 "cells": [
  {
   "cell_type": "code",
   "execution_count": 1,
   "metadata": {},
   "outputs": [],
   "source": [
    "%matplotlib inline"
   ]
  },
  {
   "cell_type": "code",
   "execution_count": 2,
   "metadata": {},
   "outputs": [
    {
     "name": "stdout",
     "output_type": "stream",
     "text": [
      "Requirement already satisfied: researchpy in c:\\users\\az\\anaconda3\\lib\\site-packages (0.1.7)\n",
      "Requirement already satisfied: numpy in c:\\users\\az\\anaconda3\\lib\\site-packages (from researchpy) (1.16.2)\n",
      "Requirement already satisfied: pandas in c:\\users\\az\\anaconda3\\lib\\site-packages (from researchpy) (0.24.2)\n",
      "Requirement already satisfied: scipy in c:\\users\\az\\anaconda3\\lib\\site-packages (from researchpy) (1.2.1)\n",
      "Requirement already satisfied: statsmodels in c:\\users\\az\\anaconda3\\lib\\site-packages (from researchpy) (0.9.0)\n",
      "Requirement already satisfied: pytz>=2011k in c:\\users\\az\\anaconda3\\lib\\site-packages (from pandas->researchpy) (2018.9)\n",
      "Requirement already satisfied: python-dateutil>=2.5.0 in c:\\users\\az\\anaconda3\\lib\\site-packages (from pandas->researchpy) (2.8.0)\n",
      "Requirement already satisfied: six>=1.5 in c:\\users\\az\\anaconda3\\lib\\site-packages (from python-dateutil>=2.5.0->pandas->researchpy) (1.12.0)\n"
     ]
    }
   ],
   "source": [
    "!pip install researchpy"
   ]
  },
  {
   "cell_type": "code",
   "execution_count": 3,
   "metadata": {},
   "outputs": [],
   "source": [
    "import matplotlib.pyplot as plt\n",
    "import pandas as pd\n",
    "import numpy as np\n",
    "import re\n",
    "from matplotlib.pyplot import figure\n",
    "#from mpl_toolkits.mplot3d import Axes3D\n",
    "\n",
    "from scipy.stats import skew, kurtosis\n",
    "# Import a scoring metric to compare methods\n",
    "\n",
    "from sklearn import datasets\n",
    "\n",
    "#for t test\n",
    "import scipy.stats as st\n",
    "import researchpy as rp\n"
   ]
  },
  {
   "cell_type": "markdown",
   "metadata": {},
   "source": [
    "# Exploring World Happiness\n",
    "\n",
    "## Is there a link between happiness and population density?\n",
    "\n",
    "\n",
    "#### Author: Yana Stamenova\n",
    "#### Date: 26.07.2019"
   ]
  },
  {
   "cell_type": "markdown",
   "metadata": {},
   "source": [
    "## *Abstract*\n",
    "\n",
    "The main purpose of the author is to explore the paths for good data cleaning and tyding. Together with this, visualizations are made so the data can be more accessible to the reader. Finally the data is analyzed and t-tests are used for accepting/rejecting of hypothesis/ questions asked about the correlations between the data sets. \n"
   ]
  },
  {
   "cell_type": "markdown",
   "metadata": {},
   "source": [
    "## *Used Abbreviations*\n",
    "\n",
    "- **HLE** - Healthy life expectancy\n",
    "- **SD** - Standard deviation\n",
    "- **WB** - World Bank\n",
    "- **est.** - estimate\n",
    "- **HI** - household income\n",
    "- **GWP** - Gallup World Poll"
   ]
  },
  {
   "cell_type": "markdown",
   "metadata": {},
   "source": [
    "## *Introduction*\n",
    "\n",
    "The basic idea of this project is to explore the world happiness report, as it is calculated based on set of variables. What makes people happy and where do the happiest people live? We will also explore additional data about population density in different countries to see what is, if there is any, correlation between happiness and more space."
   ]
  },
  {
   "cell_type": "code",
   "execution_count": 4,
   "metadata": {},
   "outputs": [
    {
     "data": {
      "text/plain": [
       "Country name                                                 object\n",
       "Year                                                          int64\n",
       "Life Ladder                                                 float64\n",
       "Log GDP per capita                                          float64\n",
       "Social support                                              float64\n",
       "Healthy life expectancy at birth                            float64\n",
       "Freedom to make life choices                                float64\n",
       "Generosity                                                  float64\n",
       "Perceptions of corruption                                   float64\n",
       "Positive affect                                             float64\n",
       "Negative affect                                             float64\n",
       "Confidence in national government                           float64\n",
       "Democratic Quality                                          float64\n",
       "Delivery Quality                                            float64\n",
       "Standard deviation of ladder by country-year                float64\n",
       "Standard deviation/Mean of ladder by country-year           float64\n",
       "GINI index (World Bank estimate)                            float64\n",
       "GINI index (World Bank estimate), average 2000-16           float64\n",
       "gini of household income reported in Gallup, by wp5-year    float64\n",
       "Most people can be trusted, Gallup                          float64\n",
       "Most people can be trusted, WVS round 1981-1984             float64\n",
       "Most people can be trusted, WVS round 1989-1993             float64\n",
       "Most people can be trusted, WVS round 1994-1998             float64\n",
       "Most people can be trusted, WVS round 1999-2004             float64\n",
       "Most people can be trusted, WVS round 2005-2009             float64\n",
       "Most people can be trusted, WVS round 2010-2014             float64\n",
       "dtype: object"
      ]
     },
     "execution_count": 4,
     "metadata": {},
     "output_type": "execute_result"
    }
   ],
   "source": [
    "#start with reading the data\n",
    "world_happiness = pd.read_excel(\"world_happiness_report_2019.xls\", sheet_name = \"Table2.1\")\n",
    "world_happiness.dtypes"
   ]
  },
  {
   "cell_type": "code",
   "execution_count": 5,
   "metadata": {},
   "outputs": [
    {
     "data": {
      "text/plain": [
       "(1704, 26)"
      ]
     },
     "execution_count": 5,
     "metadata": {},
     "output_type": "execute_result"
    }
   ],
   "source": [
    "#Everythin looks fine\n",
    "world_happiness.shape"
   ]
  },
  {
   "cell_type": "code",
   "execution_count": 6,
   "metadata": {},
   "outputs": [
    {
     "data": {
      "text/html": [
       "<div>\n",
       "<style scoped>\n",
       "    .dataframe tbody tr th:only-of-type {\n",
       "        vertical-align: middle;\n",
       "    }\n",
       "\n",
       "    .dataframe tbody tr th {\n",
       "        vertical-align: top;\n",
       "    }\n",
       "\n",
       "    .dataframe thead th {\n",
       "        text-align: right;\n",
       "    }\n",
       "</style>\n",
       "<table border=\"1\" class=\"dataframe\">\n",
       "  <thead>\n",
       "    <tr style=\"text-align: right;\">\n",
       "      <th></th>\n",
       "      <th>Country name</th>\n",
       "      <th>Year</th>\n",
       "      <th>Life Ladder</th>\n",
       "      <th>Log GDP per capita</th>\n",
       "      <th>Social support</th>\n",
       "      <th>Healthy life expectancy at birth</th>\n",
       "      <th>Freedom to make life choices</th>\n",
       "      <th>Generosity</th>\n",
       "      <th>Perceptions of corruption</th>\n",
       "      <th>Positive affect</th>\n",
       "      <th>...</th>\n",
       "      <th>GINI index (World Bank estimate)</th>\n",
       "      <th>GINI index (World Bank estimate), average 2000-16</th>\n",
       "      <th>gini of household income reported in Gallup, by wp5-year</th>\n",
       "      <th>Most people can be trusted, Gallup</th>\n",
       "      <th>Most people can be trusted, WVS round 1981-1984</th>\n",
       "      <th>Most people can be trusted, WVS round 1989-1993</th>\n",
       "      <th>Most people can be trusted, WVS round 1994-1998</th>\n",
       "      <th>Most people can be trusted, WVS round 1999-2004</th>\n",
       "      <th>Most people can be trusted, WVS round 2005-2009</th>\n",
       "      <th>Most people can be trusted, WVS round 2010-2014</th>\n",
       "    </tr>\n",
       "  </thead>\n",
       "  <tbody>\n",
       "    <tr>\n",
       "      <th>357</th>\n",
       "      <td>Costa Rica</td>\n",
       "      <td>2013</td>\n",
       "      <td>7.158000</td>\n",
       "      <td>9.549330</td>\n",
       "      <td>0.902069</td>\n",
       "      <td>70.300003</td>\n",
       "      <td>0.897879</td>\n",
       "      <td>0.021019</td>\n",
       "      <td>0.812863</td>\n",
       "      <td>0.850213</td>\n",
       "      <td>...</td>\n",
       "      <td>0.493</td>\n",
       "      <td>0.490882</td>\n",
       "      <td>0.489893</td>\n",
       "      <td>NaN</td>\n",
       "      <td>NaN</td>\n",
       "      <td>NaN</td>\n",
       "      <td>NaN</td>\n",
       "      <td>NaN</td>\n",
       "      <td>NaN</td>\n",
       "      <td>NaN</td>\n",
       "    </tr>\n",
       "    <tr>\n",
       "      <th>1603</th>\n",
       "      <td>United Kingdom</td>\n",
       "      <td>2018</td>\n",
       "      <td>7.233445</td>\n",
       "      <td>10.596948</td>\n",
       "      <td>0.928484</td>\n",
       "      <td>72.300003</td>\n",
       "      <td>0.837508</td>\n",
       "      <td>0.221998</td>\n",
       "      <td>0.404276</td>\n",
       "      <td>0.783172</td>\n",
       "      <td>...</td>\n",
       "      <td>NaN</td>\n",
       "      <td>0.341083</td>\n",
       "      <td>0.417473</td>\n",
       "      <td>NaN</td>\n",
       "      <td>NaN</td>\n",
       "      <td>NaN</td>\n",
       "      <td>0.304498</td>\n",
       "      <td>NaN</td>\n",
       "      <td>0.300558</td>\n",
       "      <td>NaN</td>\n",
       "    </tr>\n",
       "  </tbody>\n",
       "</table>\n",
       "<p>2 rows × 26 columns</p>\n",
       "</div>"
      ],
      "text/plain": [
       "        Country name  Year  Life Ladder  Log GDP per capita  Social support  \\\n",
       "357       Costa Rica  2013     7.158000            9.549330        0.902069   \n",
       "1603  United Kingdom  2018     7.233445           10.596948        0.928484   \n",
       "\n",
       "      Healthy life expectancy at birth  Freedom to make life choices  \\\n",
       "357                          70.300003                      0.897879   \n",
       "1603                         72.300003                      0.837508   \n",
       "\n",
       "      Generosity  Perceptions of corruption  Positive affect  ...  \\\n",
       "357     0.021019                   0.812863         0.850213  ...   \n",
       "1603    0.221998                   0.404276         0.783172  ...   \n",
       "\n",
       "      GINI index (World Bank estimate)  \\\n",
       "357                              0.493   \n",
       "1603                               NaN   \n",
       "\n",
       "      GINI index (World Bank estimate), average 2000-16  \\\n",
       "357                                            0.490882   \n",
       "1603                                           0.341083   \n",
       "\n",
       "      gini of household income reported in Gallup, by wp5-year  \\\n",
       "357                                            0.489893          \n",
       "1603                                           0.417473          \n",
       "\n",
       "      Most people can be trusted, Gallup  \\\n",
       "357                                  NaN   \n",
       "1603                                 NaN   \n",
       "\n",
       "      Most people can be trusted, WVS round 1981-1984  \\\n",
       "357                                               NaN   \n",
       "1603                                              NaN   \n",
       "\n",
       "      Most people can be trusted, WVS round 1989-1993  \\\n",
       "357                                               NaN   \n",
       "1603                                              NaN   \n",
       "\n",
       "      Most people can be trusted, WVS round 1994-1998  \\\n",
       "357                                               NaN   \n",
       "1603                                         0.304498   \n",
       "\n",
       "      Most people can be trusted, WVS round 1999-2004  \\\n",
       "357                                               NaN   \n",
       "1603                                              NaN   \n",
       "\n",
       "      Most people can be trusted, WVS round 2005-2009  \\\n",
       "357                                               NaN   \n",
       "1603                                         0.300558   \n",
       "\n",
       "      Most people can be trusted, WVS round 2010-2014  \n",
       "357                                               NaN  \n",
       "1603                                              NaN  \n",
       "\n",
       "[2 rows x 26 columns]"
      ]
     },
     "execution_count": 6,
     "metadata": {},
     "output_type": "execute_result"
    }
   ],
   "source": [
    "world_happiness.sample(2)"
   ]
  },
  {
   "cell_type": "markdown",
   "metadata": {},
   "source": [
    "### *Explanation of Variables:*\n",
    "\n",
    "According to the source (*add link*), the data set does not make use of any imputed missing values in the happiness rankings. The only place such imputation is used is for decomposing a country’s average ladder score into components explained by six hypothesized underlying determinants **(*GDP per person, healthy life expectancy, social support, perceived freedom to make life choice, generosity and perception of corruption*)**. A small number of countries have missing values in one or more of these factors. More information in the [link](https://s3.amazonaws.com/happiness-report/2019/WHR19_Ch2A_Appendix1.pdf).\n",
    "\n",
    "#### Life ladder\n",
    "\n",
    "**Happiness score** or **subjective well-being** (variable name *ladder*): The survey measure is from the January, 2019 release of the Gallup World Poll (GWP) covering years from 2005 to 2018. Unless stated otherwise, it is the national average response to the question of life evaluations. \n",
    "\n",
    "The English wording of the question is:\n",
    "**“Please imagine a ladder, with steps numbered from 0 at the bottom to 10 at the top. The top of the ladder represents the best possible life for you and the bottom of the ladder represents the worst possible life for you. On which step of the ladder would you say you personally feel you stand at this time?”**\n",
    "\n",
    "This measure is also referred to as *Cantril life ladder*, or just *life ladder* as it is in the dataset.\n",
    "\n",
    "1. Log GDP per capita \n",
    "\n",
    "The statistics of **GDP per capita** in purchasing power parity (PPP) at constant 2011 international dollar prices are from the November 14, 2018 update of the World Development Indicators (WDI). GDP per capita in 2018 are not yet available as of December 2018. The data is extended from 2017 to 2018, using countryspecific forecasts of real GDP growth in 2018 from different sources.\n",
    "\n",
    "2. Social support  \n",
    "\n",
    "The national average of Yes/No (1/0) answers to the question *If you were in trouble, do you have relatives or friends you can count on to help you whenever you need them, or not?*\n",
    "\n",
    "3. Healthy life expectancy at birth\n",
    "\n",
    "**Healthy life expectancies** (HLE) at birth are based on the data extracted from the World Health Organization’s (WHO) Global Health Observatory data repository.\n",
    "\n",
    "4. Freedom to make life choices\n",
    "\n",
    "The national average of responses to the question *Are you satisfied or dissatisfied with your freedom to choose what\n",
    "you do with your life?*\n",
    "\n",
    "5. Generosity    \n",
    "\n",
    "The residual of regressing national average of response to the question *Have you donated money to a charity in the past month?* on GDP per capita.\n",
    "\n",
    "6. Perceptions of corruption              \n",
    "\n",
    "The measure is the national average of the survey responses to two questions in the GWP: *Is corruption widespread throughout\n",
    "the government or not* and *Is corruption widespread within businesses or not?* The overall perception is just the average of the two 0-or-1 responses.\n",
    "\n",
    "- Positive affect - defined as the average of three positive affect measures in GWP: happiness, laugh and enjoyment.                                          \n",
    "- Negative affect - defined as the average of three negative affect measures in GWP: worry, sadness and anger.                                            \n",
    "- Confidence in national government \n",
    "\n",
    "- Democratic Quality        \n",
    "\n",
    "- Delivery Quality \n",
    "\n",
    "- Standard deviation of ladder by country-year - Alternative measures of inequality in happiness scores.                \n",
    "- Standard deviation/Mean of ladder by country-year - Alternative measures of inequality in happiness scores.\n",
    "\n",
    "- GINI index (World Bank estimate) - GINI index from the World Bank from the World Development Indicators.                     \n",
    "- GINI index (World Bank estimate), average 2000-16           \n",
    "- gini of household income reported in Gallup, by wp5-year - Gini of household income    \n",
    " \n",
    "- Most people can be trusted - Variables in the expanded data set: The question’s English wording is “Generally speaking, would you say that most people can be trusted or that you have to be careful in dealing with people?” This indicator has a limited coverage. \n",
    "\n",
    "More information about the report variables can be found [here.](https://s3.amazonaws.com/happiness-report/2019/WHR19_Ch2A_Appendix1.pdf)\n"
   ]
  },
  {
   "cell_type": "markdown",
   "metadata": {},
   "source": [
    "It is a good idea to make our column labels more Python friendly. This could be useful for our work ahead."
   ]
  },
  {
   "cell_type": "code",
   "execution_count": 7,
   "metadata": {},
   "outputs": [],
   "source": [
    "world_happiness.rename(columns={\n",
    "    \"Country name\":\"country_name\",\n",
    "    \"Year\": \"year\",\n",
    "    \"Life Ladder\": \"life_ladder\",\n",
    "    \"Log GDP per capita\" :\"log_GDP_per_capita\",\n",
    "    \"Social support\"  :\"social_support\",\n",
    "    \"Healthy life expectancy at birth\" : \"HLE_at_birth\",\n",
    "    \"Freedom to make life choices\" : \"freedom_to_make_life_choices\",\n",
    "    \"Generosity\" :\"generosity\",\n",
    "    \"Perceptions of corruption\"  : \"perceptions_of_corruption\",\n",
    "    \"Positive affect\"  : \"positive_affect\",\n",
    "    \"Negative affect\"  : \"negative_affect\",\n",
    "    \"Confidence in national government\"  : \"confidence_in_national_government\",\n",
    "    \"Democratic Quality\" : \"democratic_quality\",\n",
    "    \"Delivery Quality\" : \"delivery_quality\",\n",
    "    \"Standard deviation of ladder by country-year\" : \"SD_of_ladder_by_country_year\",\n",
    "    \"Standard deviation/Mean of ladder by country-year\" : \"SD_mean_of_ladder_by_country_year\",\n",
    "    \"GINI index (World Bank estimate)\" : \"GINI_index_WB_est\",\n",
    "    \"GINI index (World Bank estimate), average 2000-16\": \"GINI_index_WB_est_average_2000_16\",\n",
    "    \"gini of household income reported in Gallup, by wp5-year\" : \"GINI_HI_wp5_year\",\n",
    "    \"Most people can be trusted, Gallup\" : \"most_people_can_be_trusted\",\n",
    "    \"Most people can be trusted, WVS round 1981-1984\" : \"most_people_can_be_trusted_1981_1984\",\n",
    "    \"Most people can be trusted, WVS round 1989-1993\" : \"most_people_can_be_trusted_1989_1993\",\n",
    "    \"Most people can be trusted, WVS round 1994-1998\" : \"most_people_can_be_trusted_1994_1998\",\n",
    "    \"Most people can be trusted, WVS round 1999-2004\" : \"most_people_can_be_trusted_1999_2004\",\n",
    "    \"Most people can be trusted, WVS round 2005-2009\" : \"most_people_can_be_trusted_2005_2009\",\n",
    "    \"Most people can be trusted, WVS round 2010-2014\" : \"most_people_can_be_trusted_2010_2014\"\n",
    "\n",
    "}, inplace = True)"
   ]
  },
  {
   "cell_type": "code",
   "execution_count": 8,
   "metadata": {},
   "outputs": [
    {
     "data": {
      "text/html": [
       "<div>\n",
       "<style scoped>\n",
       "    .dataframe tbody tr th:only-of-type {\n",
       "        vertical-align: middle;\n",
       "    }\n",
       "\n",
       "    .dataframe tbody tr th {\n",
       "        vertical-align: top;\n",
       "    }\n",
       "\n",
       "    .dataframe thead th {\n",
       "        text-align: right;\n",
       "    }\n",
       "</style>\n",
       "<table border=\"1\" class=\"dataframe\">\n",
       "  <thead>\n",
       "    <tr style=\"text-align: right;\">\n",
       "      <th></th>\n",
       "      <th>country_name</th>\n",
       "      <th>year</th>\n",
       "      <th>life_ladder</th>\n",
       "      <th>log_GDP_per_capita</th>\n",
       "      <th>social_support</th>\n",
       "      <th>HLE_at_birth</th>\n",
       "      <th>freedom_to_make_life_choices</th>\n",
       "      <th>generosity</th>\n",
       "      <th>perceptions_of_corruption</th>\n",
       "      <th>positive_affect</th>\n",
       "      <th>...</th>\n",
       "      <th>GINI_index_WB_est</th>\n",
       "      <th>GINI_index_WB_est_average_2000_16</th>\n",
       "      <th>GINI_HI_wp5_year</th>\n",
       "      <th>most_people_can_be_trusted</th>\n",
       "      <th>most_people_can_be_trusted_1981_1984</th>\n",
       "      <th>most_people_can_be_trusted_1989_1993</th>\n",
       "      <th>most_people_can_be_trusted_1994_1998</th>\n",
       "      <th>most_people_can_be_trusted_1999_2004</th>\n",
       "      <th>most_people_can_be_trusted_2005_2009</th>\n",
       "      <th>most_people_can_be_trusted_2010_2014</th>\n",
       "    </tr>\n",
       "  </thead>\n",
       "  <tbody>\n",
       "    <tr>\n",
       "      <th>1109</th>\n",
       "      <td>Niger</td>\n",
       "      <td>2013</td>\n",
       "      <td>3.71633</td>\n",
       "      <td>6.77317</td>\n",
       "      <td>0.695814</td>\n",
       "      <td>50.959999</td>\n",
       "      <td>0.825387</td>\n",
       "      <td>-0.064</td>\n",
       "      <td>0.710963</td>\n",
       "      <td>0.6502</td>\n",
       "      <td>...</td>\n",
       "      <td>NaN</td>\n",
       "      <td>0.36875</td>\n",
       "      <td>0.390307</td>\n",
       "      <td>NaN</td>\n",
       "      <td>NaN</td>\n",
       "      <td>NaN</td>\n",
       "      <td>NaN</td>\n",
       "      <td>NaN</td>\n",
       "      <td>NaN</td>\n",
       "      <td>NaN</td>\n",
       "    </tr>\n",
       "  </tbody>\n",
       "</table>\n",
       "<p>1 rows × 26 columns</p>\n",
       "</div>"
      ],
      "text/plain": [
       "     country_name  year  life_ladder  log_GDP_per_capita  social_support  \\\n",
       "1109        Niger  2013      3.71633             6.77317        0.695814   \n",
       "\n",
       "      HLE_at_birth  freedom_to_make_life_choices  generosity  \\\n",
       "1109     50.959999                      0.825387      -0.064   \n",
       "\n",
       "      perceptions_of_corruption  positive_affect  ...  GINI_index_WB_est  \\\n",
       "1109                   0.710963           0.6502  ...                NaN   \n",
       "\n",
       "      GINI_index_WB_est_average_2000_16  GINI_HI_wp5_year  \\\n",
       "1109                            0.36875          0.390307   \n",
       "\n",
       "      most_people_can_be_trusted  most_people_can_be_trusted_1981_1984  \\\n",
       "1109                         NaN                                   NaN   \n",
       "\n",
       "      most_people_can_be_trusted_1989_1993  \\\n",
       "1109                                   NaN   \n",
       "\n",
       "      most_people_can_be_trusted_1994_1998  \\\n",
       "1109                                   NaN   \n",
       "\n",
       "      most_people_can_be_trusted_1999_2004  \\\n",
       "1109                                   NaN   \n",
       "\n",
       "      most_people_can_be_trusted_2005_2009  \\\n",
       "1109                                   NaN   \n",
       "\n",
       "      most_people_can_be_trusted_2010_2014  \n",
       "1109                                   NaN  \n",
       "\n",
       "[1 rows x 26 columns]"
      ]
     },
     "execution_count": 8,
     "metadata": {},
     "output_type": "execute_result"
    }
   ],
   "source": [
    "world_happiness.sample()"
   ]
  },
  {
   "cell_type": "markdown",
   "metadata": {},
   "source": [
    "It seems that the floating value variables \"fill\" the dataset a little bit too much. We need to fix this, to make it more clear and easy to read."
   ]
  },
  {
   "cell_type": "code",
   "execution_count": 9,
   "metadata": {},
   "outputs": [
    {
     "data": {
      "text/html": [
       "<div>\n",
       "<style scoped>\n",
       "    .dataframe tbody tr th:only-of-type {\n",
       "        vertical-align: middle;\n",
       "    }\n",
       "\n",
       "    .dataframe tbody tr th {\n",
       "        vertical-align: top;\n",
       "    }\n",
       "\n",
       "    .dataframe thead th {\n",
       "        text-align: right;\n",
       "    }\n",
       "</style>\n",
       "<table border=\"1\" class=\"dataframe\">\n",
       "  <thead>\n",
       "    <tr style=\"text-align: right;\">\n",
       "      <th></th>\n",
       "      <th>country_name</th>\n",
       "      <th>year</th>\n",
       "      <th>life_ladder</th>\n",
       "      <th>log_GDP_per_capita</th>\n",
       "      <th>social_support</th>\n",
       "      <th>HLE_at_birth</th>\n",
       "      <th>freedom_to_make_life_choices</th>\n",
       "      <th>generosity</th>\n",
       "      <th>perceptions_of_corruption</th>\n",
       "      <th>positive_affect</th>\n",
       "      <th>...</th>\n",
       "      <th>GINI_index_WB_est</th>\n",
       "      <th>GINI_index_WB_est_average_2000_16</th>\n",
       "      <th>GINI_HI_wp5_year</th>\n",
       "      <th>most_people_can_be_trusted</th>\n",
       "      <th>most_people_can_be_trusted_1981_1984</th>\n",
       "      <th>most_people_can_be_trusted_1989_1993</th>\n",
       "      <th>most_people_can_be_trusted_1994_1998</th>\n",
       "      <th>most_people_can_be_trusted_1999_2004</th>\n",
       "      <th>most_people_can_be_trusted_2005_2009</th>\n",
       "      <th>most_people_can_be_trusted_2010_2014</th>\n",
       "    </tr>\n",
       "  </thead>\n",
       "  <tbody>\n",
       "    <tr>\n",
       "      <th>1003</th>\n",
       "      <td>Moldova</td>\n",
       "      <td>2018</td>\n",
       "      <td>5.682</td>\n",
       "      <td>8.592</td>\n",
       "      <td>0.892</td>\n",
       "      <td>65.0</td>\n",
       "      <td>0.824</td>\n",
       "      <td>-0.034</td>\n",
       "      <td>0.929</td>\n",
       "      <td>0.582</td>\n",
       "      <td>...</td>\n",
       "      <td>NaN</td>\n",
       "      <td>0.326</td>\n",
       "      <td>0.401</td>\n",
       "      <td>NaN</td>\n",
       "      <td>NaN</td>\n",
       "      <td>NaN</td>\n",
       "      <td>0.218</td>\n",
       "      <td>0.141</td>\n",
       "      <td>0.176</td>\n",
       "      <td>NaN</td>\n",
       "    </tr>\n",
       "  </tbody>\n",
       "</table>\n",
       "<p>1 rows × 26 columns</p>\n",
       "</div>"
      ],
      "text/plain": [
       "     country_name  year  life_ladder  log_GDP_per_capita  social_support  \\\n",
       "1003      Moldova  2018        5.682               8.592           0.892   \n",
       "\n",
       "      HLE_at_birth  freedom_to_make_life_choices  generosity  \\\n",
       "1003          65.0                         0.824      -0.034   \n",
       "\n",
       "      perceptions_of_corruption  positive_affect  ...  GINI_index_WB_est  \\\n",
       "1003                      0.929            0.582  ...                NaN   \n",
       "\n",
       "      GINI_index_WB_est_average_2000_16  GINI_HI_wp5_year  \\\n",
       "1003                              0.326             0.401   \n",
       "\n",
       "      most_people_can_be_trusted  most_people_can_be_trusted_1981_1984  \\\n",
       "1003                         NaN                                   NaN   \n",
       "\n",
       "      most_people_can_be_trusted_1989_1993  \\\n",
       "1003                                   NaN   \n",
       "\n",
       "      most_people_can_be_trusted_1994_1998  \\\n",
       "1003                                 0.218   \n",
       "\n",
       "      most_people_can_be_trusted_1999_2004  \\\n",
       "1003                                 0.141   \n",
       "\n",
       "      most_people_can_be_trusted_2005_2009  \\\n",
       "1003                                 0.176   \n",
       "\n",
       "      most_people_can_be_trusted_2010_2014  \n",
       "1003                                   NaN  \n",
       "\n",
       "[1 rows x 26 columns]"
      ]
     },
     "execution_count": 9,
     "metadata": {},
     "output_type": "execute_result"
    }
   ],
   "source": [
    "world_happiness = world_happiness.round(3)\n",
    "world_happiness.sample()"
   ]
  },
  {
   "cell_type": "markdown",
   "metadata": {},
   "source": [
    "Now, lets see how much data we have in terms of Years:"
   ]
  },
  {
   "cell_type": "code",
   "execution_count": 10,
   "metadata": {},
   "outputs": [
    {
     "data": {
      "text/html": [
       "<div>\n",
       "<style scoped>\n",
       "    .dataframe tbody tr th:only-of-type {\n",
       "        vertical-align: middle;\n",
       "    }\n",
       "\n",
       "    .dataframe tbody tr th {\n",
       "        vertical-align: top;\n",
       "    }\n",
       "\n",
       "    .dataframe thead th {\n",
       "        text-align: right;\n",
       "    }\n",
       "</style>\n",
       "<table border=\"1\" class=\"dataframe\">\n",
       "  <thead>\n",
       "    <tr style=\"text-align: right;\">\n",
       "      <th>year</th>\n",
       "      <th>2005</th>\n",
       "      <th>2006</th>\n",
       "      <th>2007</th>\n",
       "      <th>2008</th>\n",
       "      <th>2009</th>\n",
       "      <th>2010</th>\n",
       "      <th>2011</th>\n",
       "      <th>2012</th>\n",
       "      <th>2013</th>\n",
       "      <th>2014</th>\n",
       "      <th>2015</th>\n",
       "      <th>2016</th>\n",
       "      <th>2017</th>\n",
       "      <th>2018</th>\n",
       "    </tr>\n",
       "  </thead>\n",
       "  <tbody>\n",
       "    <tr>\n",
       "      <th>country_name</th>\n",
       "      <td>27</td>\n",
       "      <td>89</td>\n",
       "      <td>102</td>\n",
       "      <td>110</td>\n",
       "      <td>114</td>\n",
       "      <td>124</td>\n",
       "      <td>146</td>\n",
       "      <td>142</td>\n",
       "      <td>137</td>\n",
       "      <td>145</td>\n",
       "      <td>143</td>\n",
       "      <td>142</td>\n",
       "      <td>147</td>\n",
       "      <td>136</td>\n",
       "    </tr>\n",
       "    <tr>\n",
       "      <th>life_ladder</th>\n",
       "      <td>27</td>\n",
       "      <td>89</td>\n",
       "      <td>102</td>\n",
       "      <td>110</td>\n",
       "      <td>114</td>\n",
       "      <td>124</td>\n",
       "      <td>146</td>\n",
       "      <td>142</td>\n",
       "      <td>137</td>\n",
       "      <td>145</td>\n",
       "      <td>143</td>\n",
       "      <td>142</td>\n",
       "      <td>147</td>\n",
       "      <td>136</td>\n",
       "    </tr>\n",
       "    <tr>\n",
       "      <th>log_GDP_per_capita</th>\n",
       "      <td>27</td>\n",
       "      <td>89</td>\n",
       "      <td>102</td>\n",
       "      <td>110</td>\n",
       "      <td>113</td>\n",
       "      <td>123</td>\n",
       "      <td>145</td>\n",
       "      <td>140</td>\n",
       "      <td>136</td>\n",
       "      <td>143</td>\n",
       "      <td>139</td>\n",
       "      <td>139</td>\n",
       "      <td>143</td>\n",
       "      <td>127</td>\n",
       "    </tr>\n",
       "    <tr>\n",
       "      <th>social_support</th>\n",
       "      <td>27</td>\n",
       "      <td>89</td>\n",
       "      <td>100</td>\n",
       "      <td>110</td>\n",
       "      <td>113</td>\n",
       "      <td>120</td>\n",
       "      <td>145</td>\n",
       "      <td>142</td>\n",
       "      <td>137</td>\n",
       "      <td>142</td>\n",
       "      <td>142</td>\n",
       "      <td>142</td>\n",
       "      <td>146</td>\n",
       "      <td>136</td>\n",
       "    </tr>\n",
       "    <tr>\n",
       "      <th>HLE_at_birth</th>\n",
       "      <td>27</td>\n",
       "      <td>89</td>\n",
       "      <td>102</td>\n",
       "      <td>110</td>\n",
       "      <td>113</td>\n",
       "      <td>123</td>\n",
       "      <td>142</td>\n",
       "      <td>138</td>\n",
       "      <td>134</td>\n",
       "      <td>142</td>\n",
       "      <td>140</td>\n",
       "      <td>139</td>\n",
       "      <td>145</td>\n",
       "      <td>132</td>\n",
       "    </tr>\n",
       "    <tr>\n",
       "      <th>freedom_to_make_life_choices</th>\n",
       "      <td>25</td>\n",
       "      <td>86</td>\n",
       "      <td>101</td>\n",
       "      <td>107</td>\n",
       "      <td>112</td>\n",
       "      <td>122</td>\n",
       "      <td>145</td>\n",
       "      <td>141</td>\n",
       "      <td>136</td>\n",
       "      <td>138</td>\n",
       "      <td>140</td>\n",
       "      <td>140</td>\n",
       "      <td>146</td>\n",
       "      <td>136</td>\n",
       "    </tr>\n",
       "    <tr>\n",
       "      <th>generosity</th>\n",
       "      <td>1</td>\n",
       "      <td>81</td>\n",
       "      <td>102</td>\n",
       "      <td>109</td>\n",
       "      <td>113</td>\n",
       "      <td>123</td>\n",
       "      <td>144</td>\n",
       "      <td>133</td>\n",
       "      <td>133</td>\n",
       "      <td>139</td>\n",
       "      <td>138</td>\n",
       "      <td>138</td>\n",
       "      <td>142</td>\n",
       "      <td>126</td>\n",
       "    </tr>\n",
       "    <tr>\n",
       "      <th>perceptions_of_corruption</th>\n",
       "      <td>25</td>\n",
       "      <td>83</td>\n",
       "      <td>98</td>\n",
       "      <td>107</td>\n",
       "      <td>111</td>\n",
       "      <td>119</td>\n",
       "      <td>138</td>\n",
       "      <td>132</td>\n",
       "      <td>130</td>\n",
       "      <td>136</td>\n",
       "      <td>133</td>\n",
       "      <td>131</td>\n",
       "      <td>136</td>\n",
       "      <td>129</td>\n",
       "    </tr>\n",
       "    <tr>\n",
       "      <th>positive_affect</th>\n",
       "      <td>26</td>\n",
       "      <td>89</td>\n",
       "      <td>101</td>\n",
       "      <td>108</td>\n",
       "      <td>113</td>\n",
       "      <td>120</td>\n",
       "      <td>145</td>\n",
       "      <td>142</td>\n",
       "      <td>135</td>\n",
       "      <td>141</td>\n",
       "      <td>142</td>\n",
       "      <td>142</td>\n",
       "      <td>146</td>\n",
       "      <td>135</td>\n",
       "    </tr>\n",
       "    <tr>\n",
       "      <th>negative_affect</th>\n",
       "      <td>26</td>\n",
       "      <td>88</td>\n",
       "      <td>102</td>\n",
       "      <td>110</td>\n",
       "      <td>113</td>\n",
       "      <td>120</td>\n",
       "      <td>146</td>\n",
       "      <td>142</td>\n",
       "      <td>137</td>\n",
       "      <td>142</td>\n",
       "      <td>142</td>\n",
       "      <td>142</td>\n",
       "      <td>146</td>\n",
       "      <td>135</td>\n",
       "    </tr>\n",
       "    <tr>\n",
       "      <th>confidence_in_national_government</th>\n",
       "      <td>24</td>\n",
       "      <td>87</td>\n",
       "      <td>99</td>\n",
       "      <td>103</td>\n",
       "      <td>94</td>\n",
       "      <td>103</td>\n",
       "      <td>122</td>\n",
       "      <td>123</td>\n",
       "      <td>125</td>\n",
       "      <td>132</td>\n",
       "      <td>130</td>\n",
       "      <td>131</td>\n",
       "      <td>134</td>\n",
       "      <td>123</td>\n",
       "    </tr>\n",
       "    <tr>\n",
       "      <th>democratic_quality</th>\n",
       "      <td>27</td>\n",
       "      <td>89</td>\n",
       "      <td>101</td>\n",
       "      <td>110</td>\n",
       "      <td>113</td>\n",
       "      <td>123</td>\n",
       "      <td>145</td>\n",
       "      <td>140</td>\n",
       "      <td>136</td>\n",
       "      <td>144</td>\n",
       "      <td>142</td>\n",
       "      <td>141</td>\n",
       "      <td>147</td>\n",
       "      <td>0</td>\n",
       "    </tr>\n",
       "    <tr>\n",
       "      <th>delivery_quality</th>\n",
       "      <td>27</td>\n",
       "      <td>89</td>\n",
       "      <td>102</td>\n",
       "      <td>110</td>\n",
       "      <td>113</td>\n",
       "      <td>123</td>\n",
       "      <td>145</td>\n",
       "      <td>140</td>\n",
       "      <td>136</td>\n",
       "      <td>144</td>\n",
       "      <td>142</td>\n",
       "      <td>141</td>\n",
       "      <td>147</td>\n",
       "      <td>0</td>\n",
       "    </tr>\n",
       "    <tr>\n",
       "      <th>SD_of_ladder_by_country_year</th>\n",
       "      <td>27</td>\n",
       "      <td>89</td>\n",
       "      <td>102</td>\n",
       "      <td>110</td>\n",
       "      <td>114</td>\n",
       "      <td>124</td>\n",
       "      <td>146</td>\n",
       "      <td>142</td>\n",
       "      <td>137</td>\n",
       "      <td>145</td>\n",
       "      <td>143</td>\n",
       "      <td>142</td>\n",
       "      <td>147</td>\n",
       "      <td>136</td>\n",
       "    </tr>\n",
       "    <tr>\n",
       "      <th>SD_mean_of_ladder_by_country_year</th>\n",
       "      <td>27</td>\n",
       "      <td>89</td>\n",
       "      <td>102</td>\n",
       "      <td>110</td>\n",
       "      <td>114</td>\n",
       "      <td>124</td>\n",
       "      <td>146</td>\n",
       "      <td>142</td>\n",
       "      <td>137</td>\n",
       "      <td>145</td>\n",
       "      <td>143</td>\n",
       "      <td>142</td>\n",
       "      <td>147</td>\n",
       "      <td>136</td>\n",
       "    </tr>\n",
       "    <tr>\n",
       "      <th>GINI_index_WB_est</th>\n",
       "      <td>17</td>\n",
       "      <td>42</td>\n",
       "      <td>52</td>\n",
       "      <td>52</td>\n",
       "      <td>53</td>\n",
       "      <td>64</td>\n",
       "      <td>70</td>\n",
       "      <td>72</td>\n",
       "      <td>63</td>\n",
       "      <td>67</td>\n",
       "      <td>64</td>\n",
       "      <td>26</td>\n",
       "      <td>1</td>\n",
       "      <td>0</td>\n",
       "    </tr>\n",
       "    <tr>\n",
       "      <th>GINI_index_WB_est_average_2000_16</th>\n",
       "      <td>25</td>\n",
       "      <td>78</td>\n",
       "      <td>92</td>\n",
       "      <td>100</td>\n",
       "      <td>99</td>\n",
       "      <td>108</td>\n",
       "      <td>127</td>\n",
       "      <td>123</td>\n",
       "      <td>121</td>\n",
       "      <td>127</td>\n",
       "      <td>125</td>\n",
       "      <td>124</td>\n",
       "      <td>130</td>\n",
       "      <td>123</td>\n",
       "    </tr>\n",
       "    <tr>\n",
       "      <th>GINI_HI_wp5_year</th>\n",
       "      <td>0</td>\n",
       "      <td>0</td>\n",
       "      <td>0</td>\n",
       "      <td>0</td>\n",
       "      <td>105</td>\n",
       "      <td>118</td>\n",
       "      <td>138</td>\n",
       "      <td>138</td>\n",
       "      <td>134</td>\n",
       "      <td>142</td>\n",
       "      <td>140</td>\n",
       "      <td>141</td>\n",
       "      <td>146</td>\n",
       "      <td>133</td>\n",
       "    </tr>\n",
       "    <tr>\n",
       "      <th>most_people_can_be_trusted</th>\n",
       "      <td>0</td>\n",
       "      <td>0</td>\n",
       "      <td>0</td>\n",
       "      <td>0</td>\n",
       "      <td>109</td>\n",
       "      <td>62</td>\n",
       "      <td>8</td>\n",
       "      <td>1</td>\n",
       "      <td>0</td>\n",
       "      <td>0</td>\n",
       "      <td>0</td>\n",
       "      <td>0</td>\n",
       "      <td>0</td>\n",
       "      <td>0</td>\n",
       "    </tr>\n",
       "    <tr>\n",
       "      <th>most_people_can_be_trusted_1981_1984</th>\n",
       "      <td>5</td>\n",
       "      <td>5</td>\n",
       "      <td>9</td>\n",
       "      <td>9</td>\n",
       "      <td>8</td>\n",
       "      <td>10</td>\n",
       "      <td>10</td>\n",
       "      <td>10</td>\n",
       "      <td>10</td>\n",
       "      <td>10</td>\n",
       "      <td>10</td>\n",
       "      <td>10</td>\n",
       "      <td>10</td>\n",
       "      <td>9</td>\n",
       "    </tr>\n",
       "    <tr>\n",
       "      <th>most_people_can_be_trusted_1989_1993</th>\n",
       "      <td>7</td>\n",
       "      <td>11</td>\n",
       "      <td>16</td>\n",
       "      <td>14</td>\n",
       "      <td>16</td>\n",
       "      <td>17</td>\n",
       "      <td>16</td>\n",
       "      <td>18</td>\n",
       "      <td>17</td>\n",
       "      <td>17</td>\n",
       "      <td>18</td>\n",
       "      <td>18</td>\n",
       "      <td>18</td>\n",
       "      <td>17</td>\n",
       "    </tr>\n",
       "    <tr>\n",
       "      <th>most_people_can_be_trusted_1994_1998</th>\n",
       "      <td>13</td>\n",
       "      <td>32</td>\n",
       "      <td>45</td>\n",
       "      <td>37</td>\n",
       "      <td>44</td>\n",
       "      <td>47</td>\n",
       "      <td>48</td>\n",
       "      <td>51</td>\n",
       "      <td>49</td>\n",
       "      <td>50</td>\n",
       "      <td>51</td>\n",
       "      <td>51</td>\n",
       "      <td>51</td>\n",
       "      <td>49</td>\n",
       "    </tr>\n",
       "    <tr>\n",
       "      <th>most_people_can_be_trusted_1999_2004</th>\n",
       "      <td>12</td>\n",
       "      <td>21</td>\n",
       "      <td>36</td>\n",
       "      <td>33</td>\n",
       "      <td>37</td>\n",
       "      <td>39</td>\n",
       "      <td>39</td>\n",
       "      <td>39</td>\n",
       "      <td>39</td>\n",
       "      <td>38</td>\n",
       "      <td>39</td>\n",
       "      <td>40</td>\n",
       "      <td>40</td>\n",
       "      <td>39</td>\n",
       "    </tr>\n",
       "    <tr>\n",
       "      <th>most_people_can_be_trusted_2005_2009</th>\n",
       "      <td>19</td>\n",
       "      <td>31</td>\n",
       "      <td>41</td>\n",
       "      <td>44</td>\n",
       "      <td>42</td>\n",
       "      <td>46</td>\n",
       "      <td>50</td>\n",
       "      <td>52</td>\n",
       "      <td>51</td>\n",
       "      <td>51</td>\n",
       "      <td>52</td>\n",
       "      <td>51</td>\n",
       "      <td>52</td>\n",
       "      <td>48</td>\n",
       "    </tr>\n",
       "    <tr>\n",
       "      <th>most_people_can_be_trusted_2010_2014</th>\n",
       "      <td>15</td>\n",
       "      <td>35</td>\n",
       "      <td>43</td>\n",
       "      <td>45</td>\n",
       "      <td>50</td>\n",
       "      <td>53</td>\n",
       "      <td>55</td>\n",
       "      <td>55</td>\n",
       "      <td>54</td>\n",
       "      <td>52</td>\n",
       "      <td>55</td>\n",
       "      <td>54</td>\n",
       "      <td>55</td>\n",
       "      <td>50</td>\n",
       "    </tr>\n",
       "  </tbody>\n",
       "</table>\n",
       "</div>"
      ],
      "text/plain": [
       "year                                  2005  2006  2007  2008  2009  2010  \\\n",
       "country_name                            27    89   102   110   114   124   \n",
       "life_ladder                             27    89   102   110   114   124   \n",
       "log_GDP_per_capita                      27    89   102   110   113   123   \n",
       "social_support                          27    89   100   110   113   120   \n",
       "HLE_at_birth                            27    89   102   110   113   123   \n",
       "freedom_to_make_life_choices            25    86   101   107   112   122   \n",
       "generosity                               1    81   102   109   113   123   \n",
       "perceptions_of_corruption               25    83    98   107   111   119   \n",
       "positive_affect                         26    89   101   108   113   120   \n",
       "negative_affect                         26    88   102   110   113   120   \n",
       "confidence_in_national_government       24    87    99   103    94   103   \n",
       "democratic_quality                      27    89   101   110   113   123   \n",
       "delivery_quality                        27    89   102   110   113   123   \n",
       "SD_of_ladder_by_country_year            27    89   102   110   114   124   \n",
       "SD_mean_of_ladder_by_country_year       27    89   102   110   114   124   \n",
       "GINI_index_WB_est                       17    42    52    52    53    64   \n",
       "GINI_index_WB_est_average_2000_16       25    78    92   100    99   108   \n",
       "GINI_HI_wp5_year                         0     0     0     0   105   118   \n",
       "most_people_can_be_trusted               0     0     0     0   109    62   \n",
       "most_people_can_be_trusted_1981_1984     5     5     9     9     8    10   \n",
       "most_people_can_be_trusted_1989_1993     7    11    16    14    16    17   \n",
       "most_people_can_be_trusted_1994_1998    13    32    45    37    44    47   \n",
       "most_people_can_be_trusted_1999_2004    12    21    36    33    37    39   \n",
       "most_people_can_be_trusted_2005_2009    19    31    41    44    42    46   \n",
       "most_people_can_be_trusted_2010_2014    15    35    43    45    50    53   \n",
       "\n",
       "year                                  2011  2012  2013  2014  2015  2016  \\\n",
       "country_name                           146   142   137   145   143   142   \n",
       "life_ladder                            146   142   137   145   143   142   \n",
       "log_GDP_per_capita                     145   140   136   143   139   139   \n",
       "social_support                         145   142   137   142   142   142   \n",
       "HLE_at_birth                           142   138   134   142   140   139   \n",
       "freedom_to_make_life_choices           145   141   136   138   140   140   \n",
       "generosity                             144   133   133   139   138   138   \n",
       "perceptions_of_corruption              138   132   130   136   133   131   \n",
       "positive_affect                        145   142   135   141   142   142   \n",
       "negative_affect                        146   142   137   142   142   142   \n",
       "confidence_in_national_government      122   123   125   132   130   131   \n",
       "democratic_quality                     145   140   136   144   142   141   \n",
       "delivery_quality                       145   140   136   144   142   141   \n",
       "SD_of_ladder_by_country_year           146   142   137   145   143   142   \n",
       "SD_mean_of_ladder_by_country_year      146   142   137   145   143   142   \n",
       "GINI_index_WB_est                       70    72    63    67    64    26   \n",
       "GINI_index_WB_est_average_2000_16      127   123   121   127   125   124   \n",
       "GINI_HI_wp5_year                       138   138   134   142   140   141   \n",
       "most_people_can_be_trusted               8     1     0     0     0     0   \n",
       "most_people_can_be_trusted_1981_1984    10    10    10    10    10    10   \n",
       "most_people_can_be_trusted_1989_1993    16    18    17    17    18    18   \n",
       "most_people_can_be_trusted_1994_1998    48    51    49    50    51    51   \n",
       "most_people_can_be_trusted_1999_2004    39    39    39    38    39    40   \n",
       "most_people_can_be_trusted_2005_2009    50    52    51    51    52    51   \n",
       "most_people_can_be_trusted_2010_2014    55    55    54    52    55    54   \n",
       "\n",
       "year                                  2017  2018  \n",
       "country_name                           147   136  \n",
       "life_ladder                            147   136  \n",
       "log_GDP_per_capita                     143   127  \n",
       "social_support                         146   136  \n",
       "HLE_at_birth                           145   132  \n",
       "freedom_to_make_life_choices           146   136  \n",
       "generosity                             142   126  \n",
       "perceptions_of_corruption              136   129  \n",
       "positive_affect                        146   135  \n",
       "negative_affect                        146   135  \n",
       "confidence_in_national_government      134   123  \n",
       "democratic_quality                     147     0  \n",
       "delivery_quality                       147     0  \n",
       "SD_of_ladder_by_country_year           147   136  \n",
       "SD_mean_of_ladder_by_country_year      147   136  \n",
       "GINI_index_WB_est                        1     0  \n",
       "GINI_index_WB_est_average_2000_16      130   123  \n",
       "GINI_HI_wp5_year                       146   133  \n",
       "most_people_can_be_trusted               0     0  \n",
       "most_people_can_be_trusted_1981_1984    10     9  \n",
       "most_people_can_be_trusted_1989_1993    18    17  \n",
       "most_people_can_be_trusted_1994_1998    51    49  \n",
       "most_people_can_be_trusted_1999_2004    40    39  \n",
       "most_people_can_be_trusted_2005_2009    52    48  \n",
       "most_people_can_be_trusted_2010_2014    55    50  "
      ]
     },
     "execution_count": 10,
     "metadata": {},
     "output_type": "execute_result"
    }
   ],
   "source": [
    "world_happiness.groupby(\"year\").count().T "
   ]
  },
  {
   "cell_type": "code",
   "execution_count": 11,
   "metadata": {},
   "outputs": [
    {
     "data": {
      "text/plain": [
       "11398"
      ]
     },
     "execution_count": 11,
     "metadata": {},
     "output_type": "execute_result"
    }
   ],
   "source": [
    "world_happiness.isna().values.sum()"
   ]
  },
  {
   "cell_type": "markdown",
   "metadata": {},
   "source": [
    "The information above gives us goose bumps since some variables have very few non-null values. But let's see it in more detail. From the table above we can see there are certain variables which contain very few values during the years. We can prove it with the code below."
   ]
  },
  {
   "cell_type": "code",
   "execution_count": 12,
   "metadata": {},
   "outputs": [
    {
     "name": "stdout",
     "output_type": "stream",
     "text": [
      "country_name: 0\n",
      "year: 0\n",
      "life_ladder: 0\n",
      "log_GDP_per_capita: 28\n",
      "social_support: 13\n",
      "HLE_at_birth: 28\n",
      "freedom_to_make_life_choices: 29\n",
      "generosity: 82\n",
      "perceptions_of_corruption: 96\n",
      "positive_affect: 19\n",
      "negative_affect: 13\n",
      "confidence_in_national_government: 174\n",
      "democratic_quality: 146\n",
      "delivery_quality: 145\n",
      "SD_of_ladder_by_country_year: 0\n",
      "SD_mean_of_ladder_by_country_year: 0\n",
      "GINI_index_WB_est: 1061\n",
      "GINI_index_WB_est_average_2000_16: 202\n",
      "GINI_HI_wp5_year: 369\n",
      "most_people_can_be_trusted: 1524\n",
      "most_people_can_be_trusted_1981_1984: 1579\n",
      "most_people_can_be_trusted_1989_1993: 1484\n",
      "most_people_can_be_trusted_1994_1998: 1086\n",
      "most_people_can_be_trusted_1999_2004: 1213\n",
      "most_people_can_be_trusted_2005_2009: 1074\n",
      "most_people_can_be_trusted_2010_2014: 1033\n"
     ]
    }
   ],
   "source": [
    "#create list with the column names\n",
    "column_names = world_happiness.columns\n",
    "\n",
    "#print the missing values in each column\n",
    "for i in column_names:\n",
    "    print(\"{}: {}\".format(i, world_happiness[i].isnull().sum()))"
   ]
  },
  {
   "cell_type": "code",
   "execution_count": 13,
   "metadata": {},
   "outputs": [
    {
     "data": {
      "text/plain": [
       "country_name                             0.000000\n",
       "year                                     0.000000\n",
       "life_ladder                              0.000000\n",
       "log_GDP_per_capita                       1.643192\n",
       "social_support                           0.762911\n",
       "HLE_at_birth                             1.643192\n",
       "freedom_to_make_life_choices             1.701878\n",
       "generosity                               4.812207\n",
       "perceptions_of_corruption                5.633803\n",
       "positive_affect                          1.115023\n",
       "negative_affect                          0.762911\n",
       "confidence_in_national_government       10.211268\n",
       "democratic_quality                       8.568075\n",
       "delivery_quality                         8.509390\n",
       "SD_of_ladder_by_country_year             0.000000\n",
       "SD_mean_of_ladder_by_country_year        0.000000\n",
       "GINI_index_WB_est                       62.265258\n",
       "GINI_index_WB_est_average_2000_16       11.854460\n",
       "GINI_HI_wp5_year                        21.654930\n",
       "most_people_can_be_trusted              89.436620\n",
       "most_people_can_be_trusted_1981_1984    92.664319\n",
       "most_people_can_be_trusted_1989_1993    87.089202\n",
       "most_people_can_be_trusted_1994_1998    63.732394\n",
       "most_people_can_be_trusted_1999_2004    71.185446\n",
       "most_people_can_be_trusted_2005_2009    63.028169\n",
       "most_people_can_be_trusted_2010_2014    60.622066\n",
       "dtype: float64"
      ]
     },
     "execution_count": 13,
     "metadata": {},
     "output_type": "execute_result"
    }
   ],
   "source": [
    "world_happiness.isna().sum() / len(world_happiness) * 100"
   ]
  },
  {
   "cell_type": "markdown",
   "metadata": {},
   "source": [
    "No matter how we look at it, our data set is a __nightmare__!!! \n",
    "\n",
    "We are missing entire rows with year values. This is not looking very good. We have some relatively good stats, based on the six key determinants, composing the **index** but this is not the case with the other variables. \n",
    "\n",
    "Another good news is that most NaN values are located in the variables from the expanded data set - \"Most people can be trusted\". We can read from the documentation for the data that these indicators have limited coverage. \n",
    "\n",
    "Based on this information we can drop the columns from the expanded data set. The *GINI_indexes* will be removed too, since there are too many missing values.    \n",
    "\n",
    "Further, we will choose a method to fill the NaN values in the rest of the variables. "
   ]
  },
  {
   "cell_type": "code",
   "execution_count": 14,
   "metadata": {},
   "outputs": [
    {
     "data": {
      "text/plain": [
       "country_name                          object\n",
       "year                                   int64\n",
       "life_ladder                          float64\n",
       "log_GDP_per_capita                   float64\n",
       "social_support                       float64\n",
       "HLE_at_birth                         float64\n",
       "freedom_to_make_life_choices         float64\n",
       "generosity                           float64\n",
       "perceptions_of_corruption            float64\n",
       "positive_affect                      float64\n",
       "negative_affect                      float64\n",
       "confidence_in_national_government    float64\n",
       "democratic_quality                   float64\n",
       "delivery_quality                     float64\n",
       "SD_of_ladder_by_country_year         float64\n",
       "SD_mean_of_ladder_by_country_year    float64\n",
       "dtype: object"
      ]
     },
     "execution_count": 14,
     "metadata": {},
     "output_type": "execute_result"
    }
   ],
   "source": [
    "world_happiness.drop([\n",
    "    \"GINI_index_WB_est\", \n",
    "    \"GINI_index_WB_est_average_2000_16\",\n",
    "    \"GINI_HI_wp5_year\",\n",
    "    \"most_people_can_be_trusted\",\n",
    "    \"most_people_can_be_trusted_1981_1984\",\n",
    "    \"most_people_can_be_trusted_1989_1993\",\n",
    "    \"most_people_can_be_trusted_1994_1998\",\n",
    "    \"most_people_can_be_trusted_1999_2004\",\n",
    "    \"most_people_can_be_trusted_2005_2009\",\n",
    "    \"most_people_can_be_trusted_2010_2014\"], axis = 1, inplace = True)\n",
    "world_happiness.dtypes"
   ]
  },
  {
   "cell_type": "markdown",
   "metadata": {},
   "source": [
    "Let's have a look at the happiness distribution for the entire timeframe. \n",
    "Maybe good idea will be to ask:\n",
    "\n",
    "__What is the distribution of the index for the whole period?__\n",
    "\n",
    "- H0 - Nothing interesting, it is normal, most people are neither happy, nor unhappy constantly.\n",
    "- H1 - The distribution is not normal."
   ]
  },
  {
   "cell_type": "code",
   "execution_count": 15,
   "metadata": {},
   "outputs": [
    {
     "data": {
      "image/png": "[encoded data removed]",
      "text/plain": [
       "<Figure size 640x480 with 1 Axes>"
      ]
     },
     "metadata": {
      "needs_background": "light"
     },
     "output_type": "display_data"
    }
   ],
   "source": [
    "plt.figure(figsize=(8, 6), dpi=80)\n",
    "\n",
    "cm = plt.cm.get_cmap('twilight_shifted')\n",
    "\n",
    "n, bins, patches = plt.hist(world_happiness.life_ladder, bins = 40, color='green', label = \"life ladder\")\n",
    "\n",
    "for i, p in enumerate(patches):\n",
    "    plt.setp(p, 'facecolor', cm(i/40))\n",
    "    \n",
    "plt.xlabel(\"Life ladder\")\n",
    "plt.ylabel(\"Count\")\n",
    "plt.title(\"Happiness Index\")\n",
    "plt.legend()\n",
    "plt.show()"
   ]
  },
  {
   "cell_type": "markdown",
   "metadata": {},
   "source": [
    "This does not seem very Gaussian (suppose I can combine these two words).\n",
    "\n",
    "It looks like it is positive skewed. The dreams about perfect Gaussian distribution are fading.\n",
    "\n",
    "We still cannot make conclusions. We need to make some calculations. We have a __mean__ for the __life ladder__ = __5.432140__ and __std__ = __1.125504__. \n",
    "\n",
    "We are going to write function to calculate and show important metrics about the happiness index and its composing values. Even that we can see some of the values in the table below it would not be a good idea just to copy/paste it.\n"
   ]
  },
  {
   "cell_type": "code",
   "execution_count": 16,
   "metadata": {},
   "outputs": [
    {
     "data": {
      "text/html": [
       "<div>\n",
       "<style scoped>\n",
       "    .dataframe tbody tr th:only-of-type {\n",
       "        vertical-align: middle;\n",
       "    }\n",
       "\n",
       "    .dataframe tbody tr th {\n",
       "        vertical-align: top;\n",
       "    }\n",
       "\n",
       "    .dataframe thead th {\n",
       "        text-align: right;\n",
       "    }\n",
       "</style>\n",
       "<table border=\"1\" class=\"dataframe\">\n",
       "  <thead>\n",
       "    <tr style=\"text-align: right;\">\n",
       "      <th></th>\n",
       "      <th>count</th>\n",
       "      <th>mean</th>\n",
       "      <th>std</th>\n",
       "      <th>min</th>\n",
       "      <th>25%</th>\n",
       "      <th>50%</th>\n",
       "      <th>75%</th>\n",
       "      <th>max</th>\n",
       "    </tr>\n",
       "  </thead>\n",
       "  <tbody>\n",
       "    <tr>\n",
       "      <th>year</th>\n",
       "      <td>1704.0</td>\n",
       "      <td>2012.332160</td>\n",
       "      <td>3.688072</td>\n",
       "      <td>2005.000</td>\n",
       "      <td>2009.00000</td>\n",
       "      <td>2012.0000</td>\n",
       "      <td>2015.00000</td>\n",
       "      <td>2018.000</td>\n",
       "    </tr>\n",
       "    <tr>\n",
       "      <th>life_ladder</th>\n",
       "      <td>1704.0</td>\n",
       "      <td>5.437157</td>\n",
       "      <td>1.121149</td>\n",
       "      <td>2.662</td>\n",
       "      <td>4.61125</td>\n",
       "      <td>5.3395</td>\n",
       "      <td>6.27350</td>\n",
       "      <td>8.019</td>\n",
       "    </tr>\n",
       "    <tr>\n",
       "      <th>log_GDP_per_capita</th>\n",
       "      <td>1676.0</td>\n",
       "      <td>9.222456</td>\n",
       "      <td>1.185781</td>\n",
       "      <td>6.457</td>\n",
       "      <td>8.30475</td>\n",
       "      <td>9.4065</td>\n",
       "      <td>10.19275</td>\n",
       "      <td>11.770</td>\n",
       "    </tr>\n",
       "    <tr>\n",
       "      <th>social_support</th>\n",
       "      <td>1691.0</td>\n",
       "      <td>0.810567</td>\n",
       "      <td>0.119212</td>\n",
       "      <td>0.290</td>\n",
       "      <td>0.74750</td>\n",
       "      <td>0.8330</td>\n",
       "      <td>0.90400</td>\n",
       "      <td>0.987</td>\n",
       "    </tr>\n",
       "    <tr>\n",
       "      <th>HLE_at_birth</th>\n",
       "      <td>1676.0</td>\n",
       "      <td>63.111970</td>\n",
       "      <td>7.583622</td>\n",
       "      <td>32.300</td>\n",
       "      <td>58.30000</td>\n",
       "      <td>65.0000</td>\n",
       "      <td>68.30000</td>\n",
       "      <td>76.800</td>\n",
       "    </tr>\n",
       "    <tr>\n",
       "      <th>freedom_to_make_life_choices</th>\n",
       "      <td>1675.0</td>\n",
       "      <td>0.733823</td>\n",
       "      <td>0.144107</td>\n",
       "      <td>0.258</td>\n",
       "      <td>0.63800</td>\n",
       "      <td>0.7530</td>\n",
       "      <td>0.84800</td>\n",
       "      <td>0.985</td>\n",
       "    </tr>\n",
       "    <tr>\n",
       "      <th>generosity</th>\n",
       "      <td>1622.0</td>\n",
       "      <td>0.000079</td>\n",
       "      <td>0.163367</td>\n",
       "      <td>-0.336</td>\n",
       "      <td>-0.11575</td>\n",
       "      <td>-0.0220</td>\n",
       "      <td>0.09375</td>\n",
       "      <td>0.678</td>\n",
       "    </tr>\n",
       "    <tr>\n",
       "      <th>perceptions_of_corruption</th>\n",
       "      <td>1608.0</td>\n",
       "      <td>0.751330</td>\n",
       "      <td>0.186070</td>\n",
       "      <td>0.035</td>\n",
       "      <td>0.69575</td>\n",
       "      <td>0.8060</td>\n",
       "      <td>0.87625</td>\n",
       "      <td>0.983</td>\n",
       "    </tr>\n",
       "    <tr>\n",
       "      <th>positive_affect</th>\n",
       "      <td>1685.0</td>\n",
       "      <td>0.709376</td>\n",
       "      <td>0.107976</td>\n",
       "      <td>0.362</td>\n",
       "      <td>0.62200</td>\n",
       "      <td>0.7190</td>\n",
       "      <td>0.80200</td>\n",
       "      <td>0.944</td>\n",
       "    </tr>\n",
       "    <tr>\n",
       "      <th>negative_affect</th>\n",
       "      <td>1691.0</td>\n",
       "      <td>0.265670</td>\n",
       "      <td>0.084700</td>\n",
       "      <td>0.083</td>\n",
       "      <td>0.20500</td>\n",
       "      <td>0.2550</td>\n",
       "      <td>0.31500</td>\n",
       "      <td>0.705</td>\n",
       "    </tr>\n",
       "    <tr>\n",
       "      <th>confidence_in_national_government</th>\n",
       "      <td>1530.0</td>\n",
       "      <td>0.481979</td>\n",
       "      <td>0.192061</td>\n",
       "      <td>0.069</td>\n",
       "      <td>0.33500</td>\n",
       "      <td>0.4640</td>\n",
       "      <td>0.61500</td>\n",
       "      <td>0.994</td>\n",
       "    </tr>\n",
       "    <tr>\n",
       "      <th>democratic_quality</th>\n",
       "      <td>1558.0</td>\n",
       "      <td>-0.136053</td>\n",
       "      <td>0.876062</td>\n",
       "      <td>-2.448</td>\n",
       "      <td>-0.79025</td>\n",
       "      <td>-0.2270</td>\n",
       "      <td>0.65025</td>\n",
       "      <td>1.575</td>\n",
       "    </tr>\n",
       "    <tr>\n",
       "      <th>delivery_quality</th>\n",
       "      <td>1559.0</td>\n",
       "      <td>-0.001396</td>\n",
       "      <td>0.975838</td>\n",
       "      <td>-2.145</td>\n",
       "      <td>-0.71150</td>\n",
       "      <td>-0.2190</td>\n",
       "      <td>0.70000</td>\n",
       "      <td>2.185</td>\n",
       "    </tr>\n",
       "    <tr>\n",
       "      <th>SD_of_ladder_by_country_year</th>\n",
       "      <td>1704.0</td>\n",
       "      <td>2.026708</td>\n",
       "      <td>0.401487</td>\n",
       "      <td>0.863</td>\n",
       "      <td>1.74375</td>\n",
       "      <td>1.9730</td>\n",
       "      <td>2.24225</td>\n",
       "      <td>3.719</td>\n",
       "    </tr>\n",
       "    <tr>\n",
       "      <th>SD_mean_of_ladder_by_country_year</th>\n",
       "      <td>1704.0</td>\n",
       "      <td>0.392124</td>\n",
       "      <td>0.124668</td>\n",
       "      <td>0.134</td>\n",
       "      <td>0.31000</td>\n",
       "      <td>0.3730</td>\n",
       "      <td>0.45600</td>\n",
       "      <td>1.023</td>\n",
       "    </tr>\n",
       "  </tbody>\n",
       "</table>\n",
       "</div>"
      ],
      "text/plain": [
       "                                    count         mean       std       min  \\\n",
       "year                               1704.0  2012.332160  3.688072  2005.000   \n",
       "life_ladder                        1704.0     5.437157  1.121149     2.662   \n",
       "log_GDP_per_capita                 1676.0     9.222456  1.185781     6.457   \n",
       "social_support                     1691.0     0.810567  0.119212     0.290   \n",
       "HLE_at_birth                       1676.0    63.111970  7.583622    32.300   \n",
       "freedom_to_make_life_choices       1675.0     0.733823  0.144107     0.258   \n",
       "generosity                         1622.0     0.000079  0.163367    -0.336   \n",
       "perceptions_of_corruption          1608.0     0.751330  0.186070     0.035   \n",
       "positive_affect                    1685.0     0.709376  0.107976     0.362   \n",
       "negative_affect                    1691.0     0.265670  0.084700     0.083   \n",
       "confidence_in_national_government  1530.0     0.481979  0.192061     0.069   \n",
       "democratic_quality                 1558.0    -0.136053  0.876062    -2.448   \n",
       "delivery_quality                   1559.0    -0.001396  0.975838    -2.145   \n",
       "SD_of_ladder_by_country_year       1704.0     2.026708  0.401487     0.863   \n",
       "SD_mean_of_ladder_by_country_year  1704.0     0.392124  0.124668     0.134   \n",
       "\n",
       "                                          25%        50%         75%       max  \n",
       "year                               2009.00000  2012.0000  2015.00000  2018.000  \n",
       "life_ladder                           4.61125     5.3395     6.27350     8.019  \n",
       "log_GDP_per_capita                    8.30475     9.4065    10.19275    11.770  \n",
       "social_support                        0.74750     0.8330     0.90400     0.987  \n",
       "HLE_at_birth                         58.30000    65.0000    68.30000    76.800  \n",
       "freedom_to_make_life_choices          0.63800     0.7530     0.84800     0.985  \n",
       "generosity                           -0.11575    -0.0220     0.09375     0.678  \n",
       "perceptions_of_corruption             0.69575     0.8060     0.87625     0.983  \n",
       "positive_affect                       0.62200     0.7190     0.80200     0.944  \n",
       "negative_affect                       0.20500     0.2550     0.31500     0.705  \n",
       "confidence_in_national_government     0.33500     0.4640     0.61500     0.994  \n",
       "democratic_quality                   -0.79025    -0.2270     0.65025     1.575  \n",
       "delivery_quality                     -0.71150    -0.2190     0.70000     2.185  \n",
       "SD_of_ladder_by_country_year          1.74375     1.9730     2.24225     3.719  \n",
       "SD_mean_of_ladder_by_country_year     0.31000     0.3730     0.45600     1.023  "
      ]
     },
     "execution_count": 16,
     "metadata": {},
     "output_type": "execute_result"
    }
   ],
   "source": [
    "#Wanted to see the stats for the key variables but then decided I want to see it all\n",
    "# df = world_happiness.iloc[:, 0:13]\n",
    "# df = df.set_index(\"year\")\n",
    "world_happiness.describe().T"
   ]
  },
  {
   "cell_type": "code",
   "execution_count": 17,
   "metadata": {},
   "outputs": [],
   "source": [
    "\n",
    "def important_metrics(data, title):\n",
    "    std_happiness = np.std(data)\n",
    "    mean_happiness = data.mean() #mean value \n",
    "    median_happiness = data.median() #middle of the ordered list\n",
    "    mode_happiness = data.mode() #most often occuring\n",
    "    diff_max_min = data.max() - data.min()\n",
    "    \n",
    "    sk_r_ew_happiness = skew(data)\n",
    "    #If you are thinking sk_r_ew and screw are not linked by chance  - Yes, I like to play with the words :)\n",
    "    \n",
    "    kurtosis_happiness = kurtosis(world_happiness.life_ladder)\n",
    "    #hashtag - platykurtic. #hashtag ILoveThisWord #hashtag ItIsStupidToWriteHashtags\n",
    "    \n",
    "    print(title)\n",
    "    print(\"Standard deviation = {}\".format(std_happiness))\n",
    "    print(\"Mean = {}\".format(mean_happiness))\n",
    "    print(\"Median = {}\".format(median_happiness))\n",
    "    print(\"Mode = {}\".format(mode_happiness))\n",
    "    print(\"Difference between max and min values = {}\".format(diff_max_min))\n",
    "    print(\"Skewness = {}\".format(sk_r_ew_happiness))\n",
    "    print(\"Kurtosis = {}\".format(kurtosis_happiness))\n",
    "    "
   ]
  },
  {
   "cell_type": "code",
   "execution_count": 18,
   "metadata": {},
   "outputs": [
    {
     "name": "stdout",
     "output_type": "stream",
     "text": [
      "Happiness index (life_ladder)\n",
      "Standard deviation = 1.1208199513565953\n",
      "Mean = 5.437156690140837\n",
      "Median = 5.3395\n",
      "Mode = 0    5.252\n",
      "dtype: float64\n",
      "Difference between max and min values = 5.357\n",
      "Skewness = 0.11442161112098703\n",
      "Kurtosis = -0.724115292080358\n"
     ]
    }
   ],
   "source": [
    "important_metrics(world_happiness.life_ladder, \"Happiness index (life_ladder)\")"
   ]
  },
  {
   "cell_type": "markdown",
   "metadata": {},
   "source": [
    "##### What do we have here? \n",
    "- The standard deviation is a little over 1.1\n",
    "- Mean, Median, Mode and Difference between min and max value difference is not larger than 0.2 between any two\n",
    "- The skewness value is near 0, not so far from the symetrical center\n",
    "- The kurtosis is negative, meaning it is a bit flat, but still in the acceptable range of (-2:2)\n",
    "- We need to take into consideration that our data for the countries is missing values for some years. \n",
    "\n",
    "Together all factors, stated above, are still not enough to reject H0 hypothesis. Let's perform a ttest to make a final statement about it. We will make three calculations - with the median, mode, and difference between min and max values. \n",
    "The critical value above which we will reject the null hypothesis is **0.01** (1%)\n",
    "\n",
    "*Since we have the standard deviation, we can perform Z-test but we decided to stick with the t-test because it is good with small data sets*"
   ]
  },
  {
   "cell_type": "code",
   "execution_count": 19,
   "metadata": {},
   "outputs": [
    {
     "name": "stdout",
     "output_type": "stream",
     "text": [
      "4.463744029028542e-05\n",
      "1.2838403345132013e-11\n",
      "0.0032077986270270926\n"
     ]
    }
   ],
   "source": [
    "print(st.ttest_1samp(world_happiness.life_ladder, 5.326).pvalue) #median\n",
    "print(st.ttest_1samp(world_happiness.life_ladder, 5.252).pvalue) #mode \n",
    "print(st.ttest_1samp(world_happiness.life_ladder, 5.357).pvalue) #dif_max_min\n"
   ]
  },
  {
   "cell_type": "markdown",
   "metadata": {},
   "source": [
    "The p-values for the three tests are way below our significance level. \n",
    "\n",
    "Conclusion: Given the results from the last ttests we can **reject the H0 hypothesis**."
   ]
  },
  {
   "cell_type": "code",
   "execution_count": 20,
   "metadata": {},
   "outputs": [
    {
     "data": {
      "text/plain": [
       "year\n",
       "2005    6.446259\n",
       "2006    5.196899\n",
       "2007    5.418275\n",
       "2008    5.418509\n",
       "2009    5.457667\n",
       "2010    5.496806\n",
       "2011    5.424082\n",
       "2012    5.443754\n",
       "2013    5.394562\n",
       "2014    5.389021\n",
       "2015    5.404035\n",
       "2016    5.399479\n",
       "2017    5.460408\n",
       "2018    5.502125\n",
       "Name: life_ladder, dtype: float64"
      ]
     },
     "execution_count": 20,
     "metadata": {},
     "output_type": "execute_result"
    }
   ],
   "source": [
    "happiness_over_the_years = world_happiness.groupby(\"year\")[\"life_ladder\"].mean()\n",
    "happiness_over_the_years"
   ]
  },
  {
   "cell_type": "markdown",
   "metadata": {},
   "source": [
    "We will check the  H0 - H1 hypothesis for the key values of the happiness index:\n",
    "- log_GDP_per_capita                   \n",
    "- social_support                       \n",
    "- HLE_at_birth                         \n",
    "- freedom_to_make_life_choices         \n",
    "- generosity                          \n",
    "- perceptions_of_corruption,\n",
    "\n",
    "and also\n",
    "- positive_affect                      \n",
    "- negative_affect                      \n",
    "\n",
    "Also we will see the correlations (if there are any) between these variable and the happiness index. But before that we have process the data more. "
   ]
  },
  {
   "cell_type": "code",
   "execution_count": 21,
   "metadata": {},
   "outputs": [],
   "source": [
    "# important_metrics(world_happiness., \"\")\n",
    "# print()\n",
    "# print(st.ttest_1samp(world_happiness., ).pvalue) #median\n",
    "# print(st.ttest_1samp(world_happiness., ).pvalue) #mode \n",
    "# print(st.ttest_1samp(world_happiness., ).pvalue) #dif_max_min"
   ]
  },
  {
   "cell_type": "code",
   "execution_count": 22,
   "metadata": {},
   "outputs": [],
   "source": [
    "def plot_scatter(data_x, data_y, title, xl, yl):\n",
    "    figure(num=None, figsize=(8, 6), dpi=80, facecolor='w', edgecolor='k')\n",
    "    color = np.random.rand(data_x.count())\n",
    "    area = (4 * happiness_over_the_years) **1.5\n",
    "    plt.scatter(range(len(data_x.index)), data_y, \n",
    "               c = color,\n",
    "               alpha = 0.5,\n",
    "               s = area,\n",
    "               label = \"{}\".format(yl) )\n",
    "    plt.xlabel(\"{}\".format(xl), )\n",
    "    plt.ylabel(\"{}\".format(yl))\n",
    "    plt.title(\"{}\".format(title))\n",
    "    plt.legend()\n",
    "    plt.xticks(range(len(data_x.index)),data_x.index, rotation='vertical')\n",
    "    plt.show()"
   ]
  },
  {
   "cell_type": "code",
   "execution_count": 23,
   "metadata": {},
   "outputs": [
    {
     "data": {
      "image/png": "[encoded data removed]",
      "text/plain": [
       "<Figure size 640x480 with 1 Axes>"
      ]
     },
     "metadata": {},
     "output_type": "display_data"
    }
   ],
   "source": [
    "title = \"Average Happiness Scores Over The Years\"\n",
    "xl = \"Years\"\n",
    "yl = \"life ladder\"\n",
    "plot_scatter(happiness_over_the_years, happiness_over_the_years, title, xl, yl)"
   ]
  },
  {
   "cell_type": "markdown",
   "metadata": {},
   "source": [
    "Looks like we have an outlier. We can plot the happiness distribution over the years with a barchart. Seems that 2005 is \"shining diamond\" in a stone river."
   ]
  },
  {
   "cell_type": "code",
   "execution_count": 24,
   "metadata": {},
   "outputs": [],
   "source": [
    "def plot_barh(data, title, xl, yl, cmap):\n",
    "    plt.figure(figsize=(8, 6), dpi=80, facecolor='w', edgecolor='k')\n",
    "\n",
    "    cm = plt.cm.get_cmap(\"{}\".format(cmap))\n",
    "    patches = plt.barh(range(len(data.index)), \n",
    "                       data, align='center', alpha=0.7)\n",
    "\n",
    "    for i, p in enumerate(patches):\n",
    "        plt.setp(p, 'facecolor', cm(i**2))\n",
    "\n",
    "\n",
    "    plt.yticks(range(len(data.index)),\n",
    "               data.index)\n",
    "    plt.xlabel(\"{}\".format(xl))\n",
    "    plt.ylabel(\"{}\".format(yl))\n",
    "    plt.title(\"{}\".format(title))\n",
    "    plt.show()\n"
   ]
  },
  {
   "cell_type": "code",
   "execution_count": 25,
   "metadata": {},
   "outputs": [
    {
     "data": {
      "image/png": "[encoded data removed]",
      "text/plain": [
       "<Figure size 640x480 with 1 Axes>"
      ]
     },
     "metadata": {},
     "output_type": "display_data"
    }
   ],
   "source": [
    "plot_barh(happiness_over_the_years, \"Average Total Happiness Index Over The Years\", \"Years\", \"Life Ladder\", \"pink\")\n",
    "\n",
    "# figure(num=None, figsize=(8, 6), dpi=80)\n",
    "# plt.bar(range(len(happiness_over_the_years.index)), happiness_over_the_years, \n",
    "#            alpha = 0.5,\n",
    "#            label = \"life ladder\" ) \n",
    "\n",
    "# plt.xlabel(\"Years\")\n",
    "# plt.ylabel(\"Life Ladder\")\n",
    "# plt.title(\"Average Total Happiness Index Over The Years\")\n",
    "# plt.legend()\n",
    "# plt.xticks(range(len(happiness_over_the_years.index)),happiness_over_the_years.index)\n",
    "# plt.show()"
   ]
  },
  {
   "cell_type": "code",
   "execution_count": 26,
   "metadata": {},
   "outputs": [
    {
     "data": {
      "text/plain": [
       "year\n",
       "2006    5.196899\n",
       "2014    5.389021\n",
       "2013    5.394562\n",
       "2016    5.399479\n",
       "2015    5.404035\n",
       "2007    5.418275\n",
       "2008    5.418509\n",
       "2011    5.424082\n",
       "2012    5.443754\n",
       "2009    5.457667\n",
       "2017    5.460408\n",
       "2010    5.496806\n",
       "2018    5.502125\n",
       "2005    6.446259\n",
       "Name: life_ladder, dtype: float64"
      ]
     },
     "execution_count": 26,
     "metadata": {},
     "output_type": "execute_result"
    }
   ],
   "source": [
    "#Sort to see the happiest and unhappiest year\n",
    "happiness_over_the_years_sorted = happiness_over_the_years.sort_values(ascending = True)\n",
    "happiness_over_the_years_sorted"
   ]
  },
  {
   "cell_type": "markdown",
   "metadata": {},
   "source": [
    "We can notice that in 2005 people were significantly happier compared to the rest of the years. \n",
    "\n",
    "### Why is 2005 the happiest year?\n",
    "\n",
    "Were we really that happy in 2005? Well, as we can see from the data, life ladder is reported for only 27 countries, compared to 89 in 2006 and over 100 during the following years. We can see who these countries are?"
   ]
  },
  {
   "cell_type": "code",
   "execution_count": 28,
   "metadata": {},
   "outputs": [
    {
     "name": "stdout",
     "output_type": "stream",
     "text": [
      "<class 'pandas.core.frame.DataFrame'>\n",
      "Int64Index: 27 entries, 59 to 1642\n",
      "Data columns (total 16 columns):\n",
      "country_name                         27 non-null object\n",
      "year                                 27 non-null int64\n",
      "life_ladder                          27 non-null float64\n",
      "log_GDP_per_capita                   27 non-null float64\n",
      "social_support                       27 non-null float64\n",
      "HLE_at_birth                         27 non-null float64\n",
      "freedom_to_make_life_choices         25 non-null float64\n",
      "generosity                           1 non-null float64\n",
      "perceptions_of_corruption            25 non-null float64\n",
      "positive_affect                      26 non-null float64\n",
      "negative_affect                      26 non-null float64\n",
      "confidence_in_national_government    24 non-null float64\n",
      "democratic_quality                   27 non-null float64\n",
      "delivery_quality                     27 non-null float64\n",
      "SD_of_ladder_by_country_year         27 non-null float64\n",
      "SD_mean_of_ladder_by_country_year    27 non-null float64\n",
      "dtypes: float64(14), int64(1), object(1)\n",
      "memory usage: 3.6+ KB\n"
     ]
    }
   ],
   "source": [
    "happiest_year = 2005\n",
    "group_years = world_happiness.groupby(\"year\")\n",
    "happiest_year_countries = group_years.get_group(happiest_year)\n",
    "happiest_year_countries.info()"
   ]
  },
  {
   "cell_type": "code",
   "execution_count": 29,
   "metadata": {},
   "outputs": [
    {
     "data": {
      "text/plain": [
       "country_name\n",
       "Turkey            4.719\n",
       "Romania           5.049\n",
       "Egypt             5.168\n",
       "Hungary           5.194\n",
       "Pakistan          5.225\n",
       "Iran              5.308\n",
       "Lebanon           5.491\n",
       "Poland            5.587\n",
       "Greece            6.006\n",
       "Jordan            6.295\n",
       "Czech Republic    6.439\n",
       "Japan             6.516\n",
       "Mexico            6.581\n",
       "Germany           6.620\n",
       "Brazil            6.637\n",
       "Italy             6.854\n",
       "United Kingdom    6.984\n",
       "Saudi Arabia      7.080\n",
       "France            7.093\n",
       "Spain             7.153\n",
       "Venezuela         7.170\n",
       "Belgium           7.262\n",
       "Australia         7.341\n",
       "Sweden            7.376\n",
       "Canada            7.418\n",
       "Netherlands       7.464\n",
       "Denmark           8.019\n",
       "Name: life_ladder, dtype: float64"
      ]
     },
     "execution_count": 29,
     "metadata": {},
     "output_type": "execute_result"
    }
   ],
   "source": [
    "#The happy group\n",
    "happy_2005 = happiest_year_countries.groupby(\"country_name\")[\"life_ladder\"].mean().sort_values(ascending = True)\n",
    "happy_2005"
   ]
  },
  {
   "cell_type": "markdown",
   "metadata": {},
   "source": [
    "Let's see who are the 27 happiest countries on average for the whole period. Then we can make a comparison."
   ]
  },
  {
   "cell_type": "code",
   "execution_count": 30,
   "metadata": {},
   "outputs": [],
   "source": [
    "group_happy_index = world_happiness.groupby(\"country_name\")[\"life_ladder\"].mean().sort_values(ascending = False)\n",
    "group_happy_index = group_happy_index.head(27)\n",
    "group_happy_index = group_happy_index.groupby(\"country_name\").mean().sort_values(ascending = True)"
   ]
  },
  {
   "cell_type": "code",
   "execution_count": 31,
   "metadata": {},
   "outputs": [
    {
     "data": {
      "image/png": "[encoded data removed]",
      "text/plain": [
       "<Figure size 640x480 with 1 Axes>"
      ]
     },
     "metadata": {},
     "output_type": "display_data"
    },
    {
     "data": {
      "image/png": "[encoded data removed]",
      "text/plain": [
       "<Figure size 640x480 with 1 Axes>"
      ]
     },
     "metadata": {},
     "output_type": "display_data"
    }
   ],
   "source": [
    "#plot happiest in 2005\n",
    "plot_barh(happy_2005,\"Happiest countries in the world in 2005\", \"Life Ladder\", \" \", \"copper\")\n",
    "\n",
    "#happiest 27 for the period as a whole\n",
    "plot_barh(group_happy_index, \"27 Happiest countries in the world for the whole period\", \"Life Ladder\", \" \", \"cividis\")"
   ]
  },
  {
   "cell_type": "code",
   "execution_count": 32,
   "metadata": {},
   "outputs": [
    {
     "data": {
      "text/plain": [
       "dict_values(['Turkey', 'Romania', 'Egypt', 'Hungary', 'Pakistan', 'Iran', 'Lebanon', 'Poland', 'Greece', 'Jordan', 'Czech Republic', 'Japan', 'Mexico', 'Germany', 'Brazil', 'Italy', 'United Kingdom', 'Saudi Arabia', 'France', 'Spain', 'Venezuela', 'Belgium', 'Australia', 'Sweden', 'Canada', 'Netherlands', 'Denmark'])"
      ]
     },
     "execution_count": 32,
     "metadata": {},
     "output_type": "execute_result"
    }
   ],
   "source": [
    "#Looking for a way to compare the two data sets and extract the duplicate countries\n",
    "#First - create a dictionary with countries as values\n",
    "'''\n",
    "Converting a list to dictionary with list elements as values in dictionary\n",
    "and keys are enumerated index starting from 0 i.e. index position of element in list\n",
    "''' \n",
    "dict_happy = { i : happy_2005.index[i] for i in range(0, len(happy_2005.index) ) }\n",
    "dict_happy.values()\n"
   ]
  },
  {
   "cell_type": "code",
   "execution_count": 33,
   "metadata": {},
   "outputs": [
    {
     "data": {
      "text/plain": [
       "dict_values(['Czech Republic', 'Qatar', 'France', 'Brazil', 'Panama', 'Mexico', 'Germany', 'United Arab Emirates', 'Oman', 'United Kingdom', 'Belgium', 'Luxembourg', 'Ireland', 'United States', 'Costa Rica', 'Israel', 'Austria', 'Australia', 'New Zealand', 'Sweden', 'Iceland', 'Canada', 'Netherlands', 'Switzerland', 'Norway', 'Finland', 'Denmark'])"
      ]
     },
     "execution_count": 33,
     "metadata": {},
     "output_type": "execute_result"
    }
   ],
   "source": [
    "dict_most_happy = { i : group_happy_index.index[i] for i in range(0, len(group_happy_index.index) ) }\n",
    "dict_most_happy.values()"
   ]
  },
  {
   "cell_type": "code",
   "execution_count": 34,
   "metadata": {},
   "outputs": [
    {
     "name": "stdout",
     "output_type": "stream",
     "text": [
      "Count of happiest countries: 12\n"
     ]
    },
    {
     "data": {
      "text/plain": [
       "['Czech Republic',\n",
       " 'Mexico',\n",
       " 'Germany',\n",
       " 'Brazil',\n",
       " 'United Kingdom',\n",
       " 'France',\n",
       " 'Belgium',\n",
       " 'Australia',\n",
       " 'Sweden',\n",
       " 'Canada',\n",
       " 'Netherlands',\n",
       " 'Denmark']"
      ]
     },
     "execution_count": 34,
     "metadata": {},
     "output_type": "execute_result"
    }
   ],
   "source": [
    "#Second - make the comparison\n",
    "common_countries = [] \n",
    "for k in dict_happy.values():\n",
    "    if k in dict_most_happy.values():\n",
    "        common_countries.append(k)\n",
    "\n",
    "print(\"Count of happiest countries: {}\".format(len(common_countries)))\n",
    "common_countries"
   ]
  },
  {
   "cell_type": "markdown",
   "metadata": {},
   "source": [
    "Nearly half of the countries which were included in the 2005 rating are still top rated. Denmark and Netherlands ocupy positions in top 5. Well, these very happy countries (ok, the people in the countries, countries cannot be happy, I know that) are doing ok. But, we are thinking now, will they do ok on average if we skip 2005? Also, what will be the distribution of the life_ladder in this case? "
   ]
  },
  {
   "cell_type": "code",
   "execution_count": 35,
   "metadata": {},
   "outputs": [
    {
     "data": {
      "text/plain": [
       "array([2008, 2009, 2010, 2011, 2012, 2013, 2014, 2015, 2016, 2017, 2018,\n",
       "       2007, 2006], dtype=int64)"
      ]
     },
     "execution_count": 35,
     "metadata": {},
     "output_type": "execute_result"
    }
   ],
   "source": [
    "#we are going to delete the rows with year 2005\n",
    "to_del_year = world_happiness[world_happiness.year.isin([2005])].index.tolist()\n",
    "\n",
    "#drop it and save in another dataframe\n",
    "world_happiness_no_2005 = world_happiness.drop(to_del_year)\n",
    "\n",
    "#done\n",
    "world_happiness_no_2005.year.unique()"
   ]
  },
  {
   "cell_type": "code",
   "execution_count": 36,
   "metadata": {},
   "outputs": [
    {
     "data": {
      "image/png": "[encoded data removed]",
      "text/plain": [
       "<Figure size 640x480 with 1 Axes>"
      ]
     },
     "metadata": {
      "needs_background": "light"
     },
     "output_type": "display_data"
    }
   ],
   "source": [
    "#check again the distribution\n",
    "plt.figure(figsize=(8, 6), dpi=80)\n",
    "\n",
    "plt.hist(world_happiness.life_ladder, bins = 40, color='purple', label = \"life ladder 05 - 18\", alpha = 0.5)\n",
    "plt.hist(world_happiness_no_2005.life_ladder, bins = 40, color='green', label = \"life ladder 06 - 18\", alpha = 0.5)\n",
    "\n",
    "  \n",
    "plt.xlabel(\"Life ladder\")\n",
    "plt.ylabel(\"Count\")\n",
    "plt.title(\"Happiness Index\")\n",
    "plt.legend()\n",
    "plt.show()"
   ]
  },
  {
   "cell_type": "markdown",
   "metadata": {},
   "source": [
    "It appears to be overlapping, with green moving a little to the left. Time to explore the metrics: "
   ]
  },
  {
   "cell_type": "code",
   "execution_count": 37,
   "metadata": {},
   "outputs": [
    {
     "name": "stdout",
     "output_type": "stream",
     "text": [
      "Happiness index data ex. 2005\n",
      "Standard deviation = 1.116560245572919\n",
      "Mean = 5.420909958258789\n",
      "Median = 5.326\n",
      "Mode = 0    5.252\n",
      "dtype: float64\n",
      "Difference between max and min values = 5.309\n",
      "Skewness = 0.12405763736970989\n",
      "Kurtosis = -0.724115292080358\n"
     ]
    }
   ],
   "source": [
    "important_metrics(world_happiness_no_2005.life_ladder, \"Happiness index data ex. 2005\")\n",
    "\n",
    "#For comparison\n",
    "# Happiness index (life_ladder)\n",
    "# Standard deviation = 1.1208199513565953\n",
    "# Mean = 5.437156690140837\n",
    "# Median = 5.3395\n",
    "# Mode = 0    5.252\n",
    "# dtype: float64\n",
    "# Difference between max and min values = 5.357\n",
    "# Skewness = 0.11442161112098703\n",
    "# Kurtosis = -0.724115292080358"
   ]
  },
  {
   "cell_type": "code",
   "execution_count": 38,
   "metadata": {},
   "outputs": [
    {
     "name": "stdout",
     "output_type": "stream",
     "text": [
      "0.0005144458125723629\n",
      "7.403653906822444e-10\n",
      "4.270245066566228e-05\n"
     ]
    }
   ],
   "source": [
    "print(st.ttest_1samp(world_happiness_no_2005.life_ladder, 5.326).pvalue) #median\n",
    "print(st.ttest_1samp(world_happiness_no_2005.life_ladder, 5.252).pvalue) #mode \n",
    "print(st.ttest_1samp(world_happiness_no_2005.life_ladder, 5.309).pvalue) #dif_max_min\n",
    "\n",
    "# For comparison\n",
    "# 4.463744029028542e-05\n",
    "# 1.2838403345132013e-11\n",
    "# 0.0032077986270270926"
   ]
  },
  {
   "cell_type": "markdown",
   "metadata": {},
   "source": [
    "The results are clear again - We reject the H0 hypothesis... again\n",
    "\n",
    "Actually we can continue working with our main data set which includes 2005 results. But before that we need to fill the NaN values for our variables (and the percentage of Nan values). We will use linear interpolation for this process.\n"
   ]
  },
  {
   "cell_type": "code",
   "execution_count": 39,
   "metadata": {},
   "outputs": [],
   "source": [
    "# log_GDP_per_capita\n",
    "# social_support\n",
    "# HLE_at_birth\n",
    "# freedom_to_make_life_choices\n",
    "# generosity\n",
    "# perceptions_of_corruption\n",
    "\n",
    "#function to plot the annualized data for the variables\n",
    "def plot_func(data, to_group, variable, color, style):\n",
    "    plt.figure(figsize=(6, 4), dpi=80, facecolor='w', edgecolor='k')\n",
    "    data.groupby(to_group)[variable].mean().plot(color = color, style = style, markersize = 12)\n",
    "    data.groupby(to_group)[variable].mean().plot(color = \"grey\", style = '--')\n",
    "    plt.xlabel(\"{}\".format(to_group))\n",
    "    plt.ylabel(\"{}\".format(variable))\n",
    "    plt.title(\"Average annual {}\".format(variable))\n",
    "    plt.show()\n"
   ]
  },
  {
   "cell_type": "code",
   "execution_count": 40,
   "metadata": {
    "scrolled": false
   },
   "outputs": [
    {
     "data": {
      "image/png": "[encoded data removed]",
      "text/plain": [
       "<Figure size 480x320 with 1 Axes>"
      ]
     },
     "metadata": {},
     "output_type": "display_data"
    },
    {
     "data": {
      "image/png": "[encoded data removed]",
      "text/plain": [
       "<Figure size 480x320 with 1 Axes>"
      ]
     },
     "metadata": {},
     "output_type": "display_data"
    },
    {
     "data": {
      "image/png": "[encoded data removed]",
      "text/plain": [
       "<Figure size 480x320 with 1 Axes>"
      ]
     },
     "metadata": {},
     "output_type": "display_data"
    },
    {
     "data": {
      "image/png": "[encoded data removed]",
      "text/plain": [
       "<Figure size 480x320 with 1 Axes>"
      ]
     },
     "metadata": {},
     "output_type": "display_data"
    },
    {
     "data": {
      "image/png": "[encoded data removed]",
      "text/plain": [
       "<Figure size 480x320 with 1 Axes>"
      ]
     },
     "metadata": {},
     "output_type": "display_data"
    },
    {
     "data": {
      "image/png": "[encoded data removed]",
      "text/plain": [
       "<Figure size 480x320 with 1 Axes>"
      ]
     },
     "metadata": {},
     "output_type": "display_data"
    }
   ],
   "source": [
    "#before filling the na values\n",
    "plot_func(world_happiness, \"year\", \"log_GDP_per_capita\", \"red\", \"*\")\n",
    "plot_func(world_happiness, \"year\", \"social_support\", \"green\", \"*\")\n",
    "plot_func(world_happiness, \"year\", \"HLE_at_birth\", \"purple\", \"*\")\n",
    "plot_func(world_happiness, \"year\", \"freedom_to_make_life_choices\", \"orange\", \"*\")\n",
    "plot_func(world_happiness, \"year\", \"generosity\", \"blue\", \"*\")\n",
    "plot_func(world_happiness, \"year\", \"perceptions_of_corruption\", \"cyan\", \"*\")\n"
   ]
  },
  {
   "cell_type": "code",
   "execution_count": 41,
   "metadata": {},
   "outputs": [
    {
     "data": {
      "image/png": "[encoded data removed]",
      "text/plain": [
       "<Figure size 480x320 with 1 Axes>"
      ]
     },
     "metadata": {},
     "output_type": "display_data"
    },
    {
     "data": {
      "image/png": "[encoded data removed]",
      "text/plain": [
       "<Figure size 480x320 with 1 Axes>"
      ]
     },
     "metadata": {},
     "output_type": "display_data"
    }
   ],
   "source": [
    "# positive_affect\n",
    "# negative_affect\n",
    "plot_func(world_happiness, \"year\", \"positive_affect\", \"magenta\", \"*\")\n",
    "plot_func(world_happiness, \"year\", \"negative_affect\", \"turquoise\", \"*\")"
   ]
  },
  {
   "cell_type": "code",
   "execution_count": 42,
   "metadata": {},
   "outputs": [],
   "source": [
    "#Interpolation, I guess a function will make it look better. \n",
    "\n",
    "# % NaN values - log_GDP_per_capita -> 1.643192\n",
    "world_happiness.log_GDP_per_capita = world_happiness.log_GDP_per_capita.interpolate(method ='linear', limit_direction ='both') \n",
    "\n",
    "# % NaN values - social_support  -> 0.762911\n",
    "world_happiness.social_support = world_happiness.social_support.interpolate(method ='linear', limit_direction ='both') \n",
    "\n",
    "# % NaN values - HLE_at_birth  -> 1.643192\n",
    "world_happiness.HLE_at_birth = world_happiness.HLE_at_birth.interpolate(method ='linear', limit_direction ='both') \n",
    "\n",
    "# % NaN values - freedom_to_make_life_choices  -> 1.701878\n",
    "world_happiness.freedom_to_make_life_choices = world_happiness.freedom_to_make_life_choices.interpolate(method ='linear', limit_direction ='both') \n",
    "\n",
    "# % NaN values - generosity  -> 4.812207\n",
    "world_happiness.generosity = world_happiness.generosity.interpolate(method ='linear', limit_direction ='both') \n",
    "\n",
    "# % NaN values - perceptions_of_corruption -> 5.633803\n",
    "world_happiness.perceptions_of_corruption = world_happiness.perceptions_of_corruption.interpolate(method ='linear', limit_direction ='both') \n",
    "\n",
    "# % NaN values - positive_affect -> 1.115023\n",
    "world_happiness.positive_affect = world_happiness.positive_affect.interpolate(method ='linear', limit_direction ='both') \n",
    "\n",
    "# % NaN values - negative_affect -> 0.762911\n",
    "world_happiness.negative_affect = world_happiness.negative_affect.interpolate(method ='linear', limit_direction ='both') \n"
   ]
  },
  {
   "cell_type": "markdown",
   "metadata": {},
   "source": [
    "Below - Variables that we will not use further since we are not sure linear interpolation is good method for them, due to bigger amount of missing vallues."
   ]
  },
  {
   "cell_type": "code",
   "execution_count": 43,
   "metadata": {},
   "outputs": [],
   "source": [
    "# % NaN values - confidence_in_national_government -> 10.211268\n",
    "world_happiness.confidence_in_national_government = world_happiness.confidence_in_national_government.interpolate(method ='linear', limit_direction ='both') \n",
    "\n",
    "# % NaN values - democratic_quality -> 8.568075\n",
    "world_happiness.democratic_quality = world_happiness.democratic_quality.interpolate(method ='linear', limit_direction ='both') \n",
    "\n",
    "# % NaN values - delivery_quality -> 8.509390\n",
    "world_happiness.delivery_quality = world_happiness.delivery_quality.interpolate(method ='linear', limit_direction ='both') "
   ]
  },
  {
   "cell_type": "code",
   "execution_count": 44,
   "metadata": {},
   "outputs": [
    {
     "data": {
      "text/plain": [
       "0"
      ]
     },
     "execution_count": 44,
     "metadata": {},
     "output_type": "execute_result"
    }
   ],
   "source": [
    "#check if Nan are filled\n",
    "\n",
    "world_happiness.isna().values.sum()"
   ]
  },
  {
   "cell_type": "code",
   "execution_count": 45,
   "metadata": {
    "scrolled": false
   },
   "outputs": [
    {
     "data": {
      "image/png": "[encoded data removed]",
      "text/plain": [
       "<Figure size 480x320 with 1 Axes>"
      ]
     },
     "metadata": {},
     "output_type": "display_data"
    },
    {
     "data": {
      "image/png": "[encoded data removed]",
      "text/plain": [
       "<Figure size 480x320 with 1 Axes>"
      ]
     },
     "metadata": {},
     "output_type": "display_data"
    },
    {
     "data": {
      "image/png": "[encoded data removed]",
      "text/plain": [
       "<Figure size 480x320 with 1 Axes>"
      ]
     },
     "metadata": {},
     "output_type": "display_data"
    },
    {
     "data": {
      "image/png": "[encoded data removed]",
      "text/plain": [
       "<Figure size 480x320 with 1 Axes>"
      ]
     },
     "metadata": {},
     "output_type": "display_data"
    },
    {
     "data": {
      "image/png": "[encoded data removed]",
      "text/plain": [
       "<Figure size 480x320 with 1 Axes>"
      ]
     },
     "metadata": {},
     "output_type": "display_data"
    },
    {
     "data": {
      "image/png": "[encoded data removed]",
      "text/plain": [
       "<Figure size 480x320 with 1 Axes>"
      ]
     },
     "metadata": {},
     "output_type": "display_data"
    }
   ],
   "source": [
    "#Interpolated results. Good idea to plot it together with the  original data\n",
    "\n",
    "plot_func(world_happiness, \"year\", \"log_GDP_per_capita\", \"red\", \"*\")\n",
    "plot_func(world_happiness, \"year\", \"social_support\", \"green\", \"*\")\n",
    "plot_func(world_happiness, \"year\", \"HLE_at_birth\", \"purple\", \"*\")\n",
    "plot_func(world_happiness, \"year\", \"freedom_to_make_life_choices\", \"orange\", \"*\")\n",
    "plot_func(world_happiness, \"year\", \"generosity\", \"blue\", \"*\")\n",
    "plot_func(world_happiness, \"year\", \"perceptions_of_corruption\", \"cyan\", \"*\")"
   ]
  },
  {
   "cell_type": "code",
   "execution_count": 46,
   "metadata": {},
   "outputs": [
    {
     "data": {
      "image/png": "[encoded data removed]",
      "text/plain": [
       "<Figure size 480x320 with 1 Axes>"
      ]
     },
     "metadata": {},
     "output_type": "display_data"
    },
    {
     "data": {
      "image/png": "[encoded data removed]",
      "text/plain": [
       "<Figure size 480x320 with 1 Axes>"
      ]
     },
     "metadata": {},
     "output_type": "display_data"
    }
   ],
   "source": [
    "# positive_affect\n",
    "# negative_affect\n",
    "plot_func(world_happiness, \"year\", \"positive_affect\", \"magenta\", \"*\")\n",
    "plot_func(world_happiness, \"year\", \"negative_affect\", \"turquoise\", \"*\")"
   ]
  },
  {
   "cell_type": "markdown",
   "metadata": {},
   "source": [
    "The biggest change we notice is in the *generosity* variable. This could be due to the big number of missing values in the column and inapropriately chosen interpolation method (*Next time compare different interpolation methods in order to pic the best for every variable*)\n",
    "\n",
    "**After examining the plots it will be interesting to see if there is significant difference between any two key variables.** \n",
    "In our case we will compare first *perception of corruption and freedom to make life choices*. From the plots looks like they are moving in an opposite directions(possible explanation - choices are limited by rules. rules limit corruption).\n",
    "The second comparison will be between gdp per capita and positive affects. \n",
    "\n",
    "For both hypothesis that we will state we will use the [Paired Two-Sample t-test](https://www.statisticshowto.datasciencecentral.com/probability-and-statistics/t-test/). This test is applied to compare whether two population means are equal. Also, the groups are part of the same data set and are linked to the same index.\n",
    "\n",
    "#### First Test: Does the Freedom to make life choices is more significant than the perceptions of corruption?\n",
    "- H0: Nothing interesting. It is not\n",
    "- H1: It is more significant"
   ]
  },
  {
   "cell_type": "code",
   "execution_count": 47,
   "metadata": {},
   "outputs": [
    {
     "data": {
      "text/plain": [
       "0.01821416047375123"
      ]
     },
     "execution_count": 47,
     "metadata": {},
     "output_type": "execute_result"
    }
   ],
   "source": [
    "st.ttest_rel(world_happiness.freedom_to_make_life_choices, world_happiness.perceptions_of_corruption).pvalue / 2"
   ]
  },
  {
   "cell_type": "markdown",
   "metadata": {},
   "source": [
    "With a significance level, equal to 0.01 and p value = 0.026, we cannot reject the null hypothesis.\n",
    "With a significance level, equal to 0.05 and p value = 0.026, we reject the null hupothesis.\n",
    "In the first case we cannot reject the possibility that freedom to make life choices is not linked to perception of corruption. On the other hand, in the second  case we reject the null hypothesis. This does not mean that we automatically will accept the H1 hypothesis."
   ]
  },
  {
   "cell_type": "markdown",
   "metadata": {},
   "source": [
    "#### First Test: Does GDP affects the positive affect?\n",
    "- H0: Nothing interesting. It does not\n",
    "- H1: It is more significant"
   ]
  },
  {
   "cell_type": "code",
   "execution_count": 48,
   "metadata": {},
   "outputs": [
    {
     "data": {
      "text/plain": [
       "0.0"
      ]
     },
     "execution_count": 48,
     "metadata": {},
     "output_type": "execute_result"
    }
   ],
   "source": [
    "st.ttest_rel(world_happiness.log_GDP_per_capita, world_happiness.positive_affect).pvalue / 2"
   ]
  },
  {
   "cell_type": "markdown",
   "metadata": {},
   "source": [
    "This one is interesting. Obviously, we can reject the H0 hypothesis both at significance levels 0.01 and 0.05. There is a correlation between both.\n",
    "Lets see it:"
   ]
  },
  {
   "cell_type": "code",
   "execution_count": 49,
   "metadata": {},
   "outputs": [
    {
     "data": {
      "text/plain": [
       "0.3047814799158787"
      ]
     },
     "execution_count": 49,
     "metadata": {},
     "output_type": "execute_result"
    }
   ],
   "source": [
    "world_happiness.log_GDP_per_capita.corr(world_happiness.positive_affect)"
   ]
  },
  {
   "cell_type": "markdown",
   "metadata": {},
   "source": [
    "There is positive correlation between both variables, meaning they move in the same direction. In other words, increasing gdp has positive effect on happiness, laugh and enjoyment (*positive effect* is the average of these three measures). But we have to keep in mind that the correlation is low, so higher increse in the gdp will lead to not so big increase in the possitive affect and vise versa."
   ]
  },
  {
   "cell_type": "code",
   "execution_count": 50,
   "metadata": {},
   "outputs": [],
   "source": [
    "#get the variables that we have already plotted\n",
    "df_cut = world_happiness.iloc[:, 0:10]"
   ]
  },
  {
   "cell_type": "code",
   "execution_count": 51,
   "metadata": {},
   "outputs": [],
   "source": [
    "#Not working properly\n",
    "# f = plt.figure(figsize=(14, 10))\n",
    "# plt.matshow(df_cut.corr(), fignum=f.number)\n",
    "# plt.xticks(range(df_cut.shape[1]), df_cut.columns, fontsize=14, rotation=90)\n",
    "# plt.yticks(range(df_cut.shape[1]), df_cut.columns, fontsize=14)\n",
    "# cb = plt.colorbar()\n",
    "# cb.ax.tick_params(labelsize=14)\n",
    "#plt.title('Correlation Matrix', fontsize=16);"
   ]
  },
  {
   "cell_type": "markdown",
   "metadata": {},
   "source": [
    "### Explore population density data set"
   ]
  },
  {
   "cell_type": "code",
   "execution_count": 52,
   "metadata": {},
   "outputs": [
    {
     "name": "stdout",
     "output_type": "stream",
     "text": [
      "<class 'pandas.core.frame.DataFrame'>\n",
      "RangeIndex: 222 entries, 0 to 221\n",
      "Data columns (total 17 columns):\n",
      "Country Name     219 non-null object\n",
      "Country Code     217 non-null object\n",
      "Series Name      217 non-null object\n",
      "Series Code      217 non-null object\n",
      "2005 [YR2005]    217 non-null object\n",
      "2006 [YR2006]    217 non-null object\n",
      "2007 [YR2007]    217 non-null object\n",
      "2008 [YR2008]    217 non-null object\n",
      "2009 [YR2009]    217 non-null object\n",
      "2010 [YR2010]    217 non-null object\n",
      "2011 [YR2011]    217 non-null object\n",
      "2012 [YR2012]    217 non-null object\n",
      "2013 [YR2013]    217 non-null object\n",
      "2014 [YR2014]    217 non-null object\n",
      "2015 [YR2015]    217 non-null object\n",
      "2016 [YR2016]    217 non-null object\n",
      "2017 [YR2017]    217 non-null object\n",
      "dtypes: object(17)\n",
      "memory usage: 29.6+ KB\n"
     ]
    }
   ],
   "source": [
    "population_density = pd.read_csv(\"population_density.csv\")\n",
    "population_density.info()"
   ]
  },
  {
   "cell_type": "code",
   "execution_count": 53,
   "metadata": {},
   "outputs": [
    {
     "data": {
      "text/html": [
       "<div>\n",
       "<style scoped>\n",
       "    .dataframe tbody tr th:only-of-type {\n",
       "        vertical-align: middle;\n",
       "    }\n",
       "\n",
       "    .dataframe tbody tr th {\n",
       "        vertical-align: top;\n",
       "    }\n",
       "\n",
       "    .dataframe thead th {\n",
       "        text-align: right;\n",
       "    }\n",
       "</style>\n",
       "<table border=\"1\" class=\"dataframe\">\n",
       "  <thead>\n",
       "    <tr style=\"text-align: right;\">\n",
       "      <th></th>\n",
       "      <th>Country Name</th>\n",
       "      <th>Country Code</th>\n",
       "      <th>Series Name</th>\n",
       "      <th>Series Code</th>\n",
       "      <th>2005 [YR2005]</th>\n",
       "      <th>2006 [YR2006]</th>\n",
       "      <th>2007 [YR2007]</th>\n",
       "      <th>2008 [YR2008]</th>\n",
       "      <th>2009 [YR2009]</th>\n",
       "      <th>2010 [YR2010]</th>\n",
       "      <th>2011 [YR2011]</th>\n",
       "      <th>2012 [YR2012]</th>\n",
       "      <th>2013 [YR2013]</th>\n",
       "      <th>2014 [YR2014]</th>\n",
       "      <th>2015 [YR2015]</th>\n",
       "      <th>2016 [YR2016]</th>\n",
       "      <th>2017 [YR2017]</th>\n",
       "    </tr>\n",
       "  </thead>\n",
       "  <tbody>\n",
       "    <tr>\n",
       "      <th>0</th>\n",
       "      <td>Afghanistan</td>\n",
       "      <td>AFG</td>\n",
       "      <td>Population density (people per sq. km of land ...</td>\n",
       "      <td>EN.POP.DNST</td>\n",
       "      <td>39.2952194957571</td>\n",
       "      <td>40.488081671415</td>\n",
       "      <td>41.5104861685507</td>\n",
       "      <td>42.4628189810986</td>\n",
       "      <td>43.4929586741415</td>\n",
       "      <td>44.7040820390283</td>\n",
       "      <td>46.1315029255889</td>\n",
       "      <td>47.7305639800263</td>\n",
       "      <td>49.4280381705113</td>\n",
       "      <td>51.1147780534877</td>\n",
       "      <td>52.7120715007812</td>\n",
       "      <td>54.1971142358239</td>\n",
       "      <td>55.5959930153479</td>\n",
       "    </tr>\n",
       "    <tr>\n",
       "      <th>1</th>\n",
       "      <td>Albania</td>\n",
       "      <td>ALB</td>\n",
       "      <td>Population density (people per sq. km of land ...</td>\n",
       "      <td>EN.POP.DNST</td>\n",
       "      <td>109.908284671533</td>\n",
       "      <td>109.21704379562</td>\n",
       "      <td>108.394781021898</td>\n",
       "      <td>107.566204379562</td>\n",
       "      <td>106.843759124088</td>\n",
       "      <td>106.314635036496</td>\n",
       "      <td>106.02901459854</td>\n",
       "      <td>105.854051094891</td>\n",
       "      <td>105.660291970803</td>\n",
       "      <td>105.441751824818</td>\n",
       "      <td>105.135145985401</td>\n",
       "      <td>104.967189781022</td>\n",
       "      <td>104.870693430657</td>\n",
       "    </tr>\n",
       "  </tbody>\n",
       "</table>\n",
       "</div>"
      ],
      "text/plain": [
       "  Country Name Country Code  \\\n",
       "0  Afghanistan          AFG   \n",
       "1      Albania          ALB   \n",
       "\n",
       "                                         Series Name  Series Code  \\\n",
       "0  Population density (people per sq. km of land ...  EN.POP.DNST   \n",
       "1  Population density (people per sq. km of land ...  EN.POP.DNST   \n",
       "\n",
       "      2005 [YR2005]    2006 [YR2006]     2007 [YR2007]     2008 [YR2008]  \\\n",
       "0  39.2952194957571  40.488081671415  41.5104861685507  42.4628189810986   \n",
       "1  109.908284671533  109.21704379562  108.394781021898  107.566204379562   \n",
       "\n",
       "      2009 [YR2009]     2010 [YR2010]     2011 [YR2011]     2012 [YR2012]  \\\n",
       "0  43.4929586741415  44.7040820390283  46.1315029255889  47.7305639800263   \n",
       "1  106.843759124088  106.314635036496   106.02901459854  105.854051094891   \n",
       "\n",
       "      2013 [YR2013]     2014 [YR2014]     2015 [YR2015]     2016 [YR2016]  \\\n",
       "0  49.4280381705113  51.1147780534877  52.7120715007812  54.1971142358239   \n",
       "1  105.660291970803  105.441751824818  105.135145985401  104.967189781022   \n",
       "\n",
       "      2017 [YR2017]  \n",
       "0  55.5959930153479  \n",
       "1  104.870693430657  "
      ]
     },
     "execution_count": 53,
     "metadata": {},
     "output_type": "execute_result"
    }
   ],
   "source": [
    "population_density.head(2)"
   ]
  },
  {
   "cell_type": "markdown",
   "metadata": {},
   "source": [
    "We will have some cleaning to do here:\n",
    "- First, we will start with making the year columns looking better\n",
    "- Then, removing unnecessary column\n",
    "- Followed by dropping unnecessary rows\n",
    "- Melting columns\n",
    "- and more. \n",
    "\n",
    "Let's do this first."
   ]
  },
  {
   "cell_type": "code",
   "execution_count": 54,
   "metadata": {},
   "outputs": [],
   "source": [
    "#remove unnecessary labeling, cleaning the columns \n",
    "population_density = population_density.rename(columns=lambda x: re.sub(r'\\[(.*?)\\]','',x))"
   ]
  },
  {
   "cell_type": "code",
   "execution_count": 55,
   "metadata": {},
   "outputs": [],
   "source": [
    "#Column \"Series Code contains the same data, which is not interesting for us\"\n",
    "population_density.drop([\"Series Code\"], axis = 1, inplace = True)"
   ]
  },
  {
   "cell_type": "code",
   "execution_count": 56,
   "metadata": {},
   "outputs": [
    {
     "data": {
      "text/html": [
       "<div>\n",
       "<style scoped>\n",
       "    .dataframe tbody tr th:only-of-type {\n",
       "        vertical-align: middle;\n",
       "    }\n",
       "\n",
       "    .dataframe tbody tr th {\n",
       "        vertical-align: top;\n",
       "    }\n",
       "\n",
       "    .dataframe thead th {\n",
       "        text-align: right;\n",
       "    }\n",
       "</style>\n",
       "<table border=\"1\" class=\"dataframe\">\n",
       "  <thead>\n",
       "    <tr style=\"text-align: right;\">\n",
       "      <th></th>\n",
       "      <th>Country Name</th>\n",
       "      <th>Country Code</th>\n",
       "      <th>Series Name</th>\n",
       "      <th>2005</th>\n",
       "      <th>2006</th>\n",
       "      <th>2007</th>\n",
       "      <th>2008</th>\n",
       "      <th>2009</th>\n",
       "      <th>2010</th>\n",
       "      <th>2011</th>\n",
       "      <th>2012</th>\n",
       "      <th>2013</th>\n",
       "      <th>2014</th>\n",
       "      <th>2015</th>\n",
       "      <th>2016</th>\n",
       "      <th>2017</th>\n",
       "    </tr>\n",
       "  </thead>\n",
       "  <tbody>\n",
       "    <tr>\n",
       "      <th>102</th>\n",
       "      <td>Kiribati</td>\n",
       "      <td>KIR</td>\n",
       "      <td>Population density (people per sq. km of land ...</td>\n",
       "      <td>113.981481481481</td>\n",
       "      <td>116.472839506173</td>\n",
       "      <td>119.169135802469</td>\n",
       "      <td>121.927160493827</td>\n",
       "      <td>124.604938271605</td>\n",
       "      <td>127.07037037037</td>\n",
       "      <td>129.293827160494</td>\n",
       "      <td>131.320987654321</td>\n",
       "      <td>133.197530864198</td>\n",
       "      <td>135.050617283951</td>\n",
       "      <td>136.950617283951</td>\n",
       "      <td>138.918518518519</td>\n",
       "      <td>140.935802469136</td>\n",
       "    </tr>\n",
       "  </tbody>\n",
       "</table>\n",
       "</div>"
      ],
      "text/plain": [
       "    Country Name Country Code  \\\n",
       "102     Kiribati          KIR   \n",
       "\n",
       "                                           Series Name             2005   \\\n",
       "102  Population density (people per sq. km of land ...  113.981481481481   \n",
       "\n",
       "                2006              2007              2008              2009   \\\n",
       "102  116.472839506173  119.169135802469  121.927160493827  124.604938271605   \n",
       "\n",
       "               2010              2011              2012              2013   \\\n",
       "102  127.07037037037  129.293827160494  131.320987654321  133.197530864198   \n",
       "\n",
       "                2014              2015              2016              2017   \n",
       "102  135.050617283951  136.950617283951  138.918518518519  140.935802469136  "
      ]
     },
     "execution_count": 56,
     "metadata": {},
     "output_type": "execute_result"
    }
   ],
   "source": [
    "population_density.sample()\n",
    "#looks better now"
   ]
  },
  {
   "cell_type": "code",
   "execution_count": 57,
   "metadata": {},
   "outputs": [
    {
     "data": {
      "text/plain": [
       "212                               Virgin Islands (U.S.)\n",
       "213                                  West Bank and Gaza\n",
       "214                                         Yemen, Rep.\n",
       "215                                              Zambia\n",
       "216                                            Zimbabwe\n",
       "217                                                 NaN\n",
       "218                                                 NaN\n",
       "219                                                 NaN\n",
       "220    Data from database: World Development Indicators\n",
       "221                            Last Updated: 07/10/2019\n",
       "Name: Country Name, dtype: object"
      ]
     },
     "execution_count": 57,
     "metadata": {},
     "output_type": "execute_result"
    }
   ],
   "source": [
    "#Time to deal with some rows that we don't need\n",
    "population_density[\"Country Name\"].tail(10)"
   ]
  },
  {
   "cell_type": "code",
   "execution_count": 58,
   "metadata": {},
   "outputs": [],
   "source": [
    "#remove the last five rows - they don't bring information, will write reference in the end :)\n",
    "population_density.drop(population_density.index[217:222], inplace = True)"
   ]
  },
  {
   "cell_type": "code",
   "execution_count": 59,
   "metadata": {},
   "outputs": [
    {
     "data": {
      "text/plain": [
       "212    Virgin Islands (U.S.)\n",
       "213       West Bank and Gaza\n",
       "214              Yemen, Rep.\n",
       "215                   Zambia\n",
       "216                 Zimbabwe\n",
       "Name: Country Name, dtype: object"
      ]
     },
     "execution_count": 59,
     "metadata": {},
     "output_type": "execute_result"
    }
   ],
   "source": [
    "#double check\n",
    "population_density[\"Country Name\"].tail(5)"
   ]
  },
  {
   "cell_type": "code",
   "execution_count": 60,
   "metadata": {},
   "outputs": [
    {
     "data": {
      "text/html": [
       "<div>\n",
       "<style scoped>\n",
       "    .dataframe tbody tr th:only-of-type {\n",
       "        vertical-align: middle;\n",
       "    }\n",
       "\n",
       "    .dataframe tbody tr th {\n",
       "        vertical-align: top;\n",
       "    }\n",
       "\n",
       "    .dataframe thead th {\n",
       "        text-align: right;\n",
       "    }\n",
       "</style>\n",
       "<table border=\"1\" class=\"dataframe\">\n",
       "  <thead>\n",
       "    <tr style=\"text-align: right;\">\n",
       "      <th></th>\n",
       "      <th>Country Name</th>\n",
       "      <th>Country Code</th>\n",
       "      <th>Series Name</th>\n",
       "      <th>Year</th>\n",
       "      <th>Value</th>\n",
       "    </tr>\n",
       "  </thead>\n",
       "  <tbody>\n",
       "    <tr>\n",
       "      <th>2639</th>\n",
       "      <td>Canada</td>\n",
       "      <td>CAN</td>\n",
       "      <td>Population density (people per sq. km of land ...</td>\n",
       "      <td>2017</td>\n",
       "      <td>4.01827985013488</td>\n",
       "    </tr>\n",
       "  </tbody>\n",
       "</table>\n",
       "</div>"
      ],
      "text/plain": [
       "     Country Name Country Code  \\\n",
       "2639       Canada          CAN   \n",
       "\n",
       "                                            Series Name   Year  \\\n",
       "2639  Population density (people per sq. km of land ...  2017    \n",
       "\n",
       "                 Value  \n",
       "2639  4.01827985013488  "
      ]
     },
     "execution_count": 60,
     "metadata": {},
     "output_type": "execute_result"
    }
   ],
   "source": [
    "#Years should be in one column. \n",
    "population_density = pd.melt(population_density, id_vars = [\"Country Name\", \"Country Code\", \"Series Name\"], var_name=\"Year\", value_name=\"Value\" )\n",
    "population_density.sample()"
   ]
  },
  {
   "cell_type": "code",
   "execution_count": 61,
   "metadata": {},
   "outputs": [
    {
     "data": {
      "text/plain": [
       "(2821, 5)"
      ]
     },
     "execution_count": 61,
     "metadata": {},
     "output_type": "execute_result"
    }
   ],
   "source": [
    "population_density.shape"
   ]
  },
  {
   "cell_type": "code",
   "execution_count": 62,
   "metadata": {},
   "outputs": [
    {
     "data": {
      "text/plain": [
       "array(['Population density (people per sq. km of land area)'],\n",
       "      dtype=object)"
      ]
     },
     "execution_count": 62,
     "metadata": {},
     "output_type": "execute_result"
    }
   ],
   "source": [
    "population_density[\"Series Name\"].unique()"
   ]
  },
  {
   "cell_type": "code",
   "execution_count": 63,
   "metadata": {},
   "outputs": [],
   "source": [
    "#Python friendly labeling\n",
    "population_density.rename(columns = {\n",
    "    \"Value\": \"population_density_(people per sq. km)\",\n",
    "    \"Country Name\": \"country_name\",\n",
    "    \"Country Code\": \"country_code\",\n",
    "    \"Year\": \"year\"\n",
    "},\n",
    "                          inplace=True)"
   ]
  },
  {
   "cell_type": "code",
   "execution_count": 64,
   "metadata": {},
   "outputs": [
    {
     "data": {
      "text/html": [
       "<div>\n",
       "<style scoped>\n",
       "    .dataframe tbody tr th:only-of-type {\n",
       "        vertical-align: middle;\n",
       "    }\n",
       "\n",
       "    .dataframe tbody tr th {\n",
       "        vertical-align: top;\n",
       "    }\n",
       "\n",
       "    .dataframe thead th {\n",
       "        text-align: right;\n",
       "    }\n",
       "</style>\n",
       "<table border=\"1\" class=\"dataframe\">\n",
       "  <thead>\n",
       "    <tr style=\"text-align: right;\">\n",
       "      <th></th>\n",
       "      <th>country_name</th>\n",
       "      <th>country_code</th>\n",
       "      <th>Series Name</th>\n",
       "      <th>year</th>\n",
       "      <th>population_density_(people per sq. km)</th>\n",
       "    </tr>\n",
       "  </thead>\n",
       "  <tbody>\n",
       "    <tr>\n",
       "      <th>874</th>\n",
       "      <td>Antigua and Barbuda</td>\n",
       "      <td>ATG</td>\n",
       "      <td>Population density (people per sq. km of land ...</td>\n",
       "      <td>2009</td>\n",
       "      <td>197.15</td>\n",
       "    </tr>\n",
       "  </tbody>\n",
       "</table>\n",
       "</div>"
      ],
      "text/plain": [
       "            country_name country_code  \\\n",
       "874  Antigua and Barbuda          ATG   \n",
       "\n",
       "                                           Series Name   year  \\\n",
       "874  Population density (people per sq. km of land ...  2009    \n",
       "\n",
       "    population_density_(people per sq. km)  \n",
       "874                                 197.15  "
      ]
     },
     "execution_count": 64,
     "metadata": {},
     "output_type": "execute_result"
    }
   ],
   "source": [
    "population_density.sample()"
   ]
  },
  {
   "cell_type": "code",
   "execution_count": 65,
   "metadata": {},
   "outputs": [
    {
     "data": {
      "text/html": [
       "<div>\n",
       "<style scoped>\n",
       "    .dataframe tbody tr th:only-of-type {\n",
       "        vertical-align: middle;\n",
       "    }\n",
       "\n",
       "    .dataframe tbody tr th {\n",
       "        vertical-align: top;\n",
       "    }\n",
       "\n",
       "    .dataframe thead th {\n",
       "        text-align: right;\n",
       "    }\n",
       "</style>\n",
       "<table border=\"1\" class=\"dataframe\">\n",
       "  <thead>\n",
       "    <tr style=\"text-align: right;\">\n",
       "      <th></th>\n",
       "      <th>country_name</th>\n",
       "      <th>country_code</th>\n",
       "      <th>Series Name</th>\n",
       "      <th>year</th>\n",
       "      <th>population_density_(people per sq. km)</th>\n",
       "    </tr>\n",
       "  </thead>\n",
       "  <tbody>\n",
       "    <tr>\n",
       "      <th>0</th>\n",
       "      <td>Afghanistan</td>\n",
       "      <td>AFG</td>\n",
       "      <td>Population density (people per sq. km of land ...</td>\n",
       "      <td>2005</td>\n",
       "      <td>39.2952194957571</td>\n",
       "    </tr>\n",
       "    <tr>\n",
       "      <th>217</th>\n",
       "      <td>Afghanistan</td>\n",
       "      <td>AFG</td>\n",
       "      <td>Population density (people per sq. km of land ...</td>\n",
       "      <td>2006</td>\n",
       "      <td>40.488081671415</td>\n",
       "    </tr>\n",
       "    <tr>\n",
       "      <th>434</th>\n",
       "      <td>Afghanistan</td>\n",
       "      <td>AFG</td>\n",
       "      <td>Population density (people per sq. km of land ...</td>\n",
       "      <td>2007</td>\n",
       "      <td>41.5104861685507</td>\n",
       "    </tr>\n",
       "    <tr>\n",
       "      <th>651</th>\n",
       "      <td>Afghanistan</td>\n",
       "      <td>AFG</td>\n",
       "      <td>Population density (people per sq. km of land ...</td>\n",
       "      <td>2008</td>\n",
       "      <td>42.4628189810986</td>\n",
       "    </tr>\n",
       "    <tr>\n",
       "      <th>868</th>\n",
       "      <td>Afghanistan</td>\n",
       "      <td>AFG</td>\n",
       "      <td>Population density (people per sq. km of land ...</td>\n",
       "      <td>2009</td>\n",
       "      <td>43.4929586741415</td>\n",
       "    </tr>\n",
       "  </tbody>\n",
       "</table>\n",
       "</div>"
      ],
      "text/plain": [
       "    country_name country_code  \\\n",
       "0    Afghanistan          AFG   \n",
       "217  Afghanistan          AFG   \n",
       "434  Afghanistan          AFG   \n",
       "651  Afghanistan          AFG   \n",
       "868  Afghanistan          AFG   \n",
       "\n",
       "                                           Series Name   year  \\\n",
       "0    Population density (people per sq. km of land ...  2005    \n",
       "217  Population density (people per sq. km of land ...  2006    \n",
       "434  Population density (people per sq. km of land ...  2007    \n",
       "651  Population density (people per sq. km of land ...  2008    \n",
       "868  Population density (people per sq. km of land ...  2009    \n",
       "\n",
       "    population_density_(people per sq. km)  \n",
       "0                         39.2952194957571  \n",
       "217                        40.488081671415  \n",
       "434                       41.5104861685507  \n",
       "651                       42.4628189810986  \n",
       "868                       43.4929586741415  "
      ]
     },
     "execution_count": 65,
     "metadata": {},
     "output_type": "execute_result"
    }
   ],
   "source": [
    "#It is good to sort things out \n",
    "population_density.sort_values(by = [\"country_name\", \"year\"], inplace = True)\n",
    "population_density.head()"
   ]
  },
  {
   "cell_type": "markdown",
   "metadata": {},
   "source": [
    "- Our next steps will be to fixt the types of the columns, if needed. \n",
    "- Values need some makeover too"
   ]
  },
  {
   "cell_type": "code",
   "execution_count": 66,
   "metadata": {},
   "outputs": [
    {
     "data": {
      "text/plain": [
       "country_name                              object\n",
       "country_code                              object\n",
       "Series Name                               object\n",
       "year                                      object\n",
       "population_density_(people per sq. km)    object\n",
       "dtype: object"
      ]
     },
     "execution_count": 66,
     "metadata": {},
     "output_type": "execute_result"
    }
   ],
   "source": [
    "population_density.dtypes"
   ]
  },
  {
   "cell_type": "code",
   "execution_count": 67,
   "metadata": {},
   "outputs": [
    {
     "data": {
      "text/plain": [
       "array(['39.2952194957571', '40.488081671415', '41.5104861685507', ...,\n",
       "       '35.7105570634613', '36.2682952048598', '36.8017190125372'],\n",
       "      dtype=object)"
      ]
     },
     "execution_count": 67,
     "metadata": {},
     "output_type": "execute_result"
    }
   ],
   "source": [
    "population_density[\"population_density_(people per sq. km)\"].unique()"
   ]
  },
  {
   "cell_type": "code",
   "execution_count": 68,
   "metadata": {},
   "outputs": [],
   "source": [
    "#I know because i've seen it\n",
    "population_density[\"population_density_(people per sq. km)\"].replace(\"..\", np.nan, inplace = True)"
   ]
  },
  {
   "cell_type": "code",
   "execution_count": 69,
   "metadata": {},
   "outputs": [],
   "source": [
    "#make float\n",
    "population_density[\"population_density_(people per sq. km)\"] = population_density[\"population_density_(people per sq. km)\"].astype(float)"
   ]
  },
  {
   "cell_type": "code",
   "execution_count": 70,
   "metadata": {},
   "outputs": [],
   "source": [
    "#round up to two decimal\n",
    "population_density[\"population_density_(people per sq. km)\"] = population_density[\"population_density_(people per sq. km)\"].round(2)"
   ]
  },
  {
   "cell_type": "code",
   "execution_count": 71,
   "metadata": {},
   "outputs": [],
   "source": [
    "#let's have some categories\n",
    "population_density.year = population_density.year.astype(\"category\")\n",
    "population_density.country_name = population_density.country_name.astype(\"category\")"
   ]
  },
  {
   "cell_type": "code",
   "execution_count": 72,
   "metadata": {},
   "outputs": [
    {
     "data": {
      "text/html": [
       "<div>\n",
       "<style scoped>\n",
       "    .dataframe tbody tr th:only-of-type {\n",
       "        vertical-align: middle;\n",
       "    }\n",
       "\n",
       "    .dataframe tbody tr th {\n",
       "        vertical-align: top;\n",
       "    }\n",
       "\n",
       "    .dataframe thead th {\n",
       "        text-align: right;\n",
       "    }\n",
       "</style>\n",
       "<table border=\"1\" class=\"dataframe\">\n",
       "  <thead>\n",
       "    <tr style=\"text-align: right;\">\n",
       "      <th></th>\n",
       "      <th>country_name</th>\n",
       "      <th>country_code</th>\n",
       "      <th>Series Name</th>\n",
       "      <th>year</th>\n",
       "      <th>population_density_(people per sq. km)</th>\n",
       "    </tr>\n",
       "  </thead>\n",
       "  <tbody>\n",
       "    <tr>\n",
       "      <th>1903</th>\n",
       "      <td>Senegal</td>\n",
       "      <td>SEN</td>\n",
       "      <td>Population density (people per sq. km of land ...</td>\n",
       "      <td>2013</td>\n",
       "      <td>71.59</td>\n",
       "    </tr>\n",
       "  </tbody>\n",
       "</table>\n",
       "</div>"
      ],
      "text/plain": [
       "     country_name country_code  \\\n",
       "1903      Senegal          SEN   \n",
       "\n",
       "                                            Series Name   year  \\\n",
       "1903  Population density (people per sq. km of land ...  2013    \n",
       "\n",
       "      population_density_(people per sq. km)  \n",
       "1903                                   71.59  "
      ]
     },
     "execution_count": 72,
     "metadata": {},
     "output_type": "execute_result"
    }
   ],
   "source": [
    "population_density.sample()"
   ]
  },
  {
   "cell_type": "code",
   "execution_count": 73,
   "metadata": {},
   "outputs": [
    {
     "data": {
      "text/plain": [
       "country_name                              category\n",
       "country_code                                object\n",
       "Series Name                                 object\n",
       "year                                      category\n",
       "population_density_(people per sq. km)     float64\n",
       "dtype: object"
      ]
     },
     "execution_count": 73,
     "metadata": {},
     "output_type": "execute_result"
    }
   ],
   "source": [
    "population_density.dtypes\n",
    "#looks good now"
   ]
  },
  {
   "cell_type": "code",
   "execution_count": 74,
   "metadata": {},
   "outputs": [
    {
     "data": {
      "text/plain": [
       "217"
      ]
     },
     "execution_count": 74,
     "metadata": {},
     "output_type": "execute_result"
    }
   ],
   "source": [
    "population_density.country_name.nunique()"
   ]
  },
  {
   "cell_type": "code",
   "execution_count": 75,
   "metadata": {},
   "outputs": [
    {
     "data": {
      "text/plain": [
       "165"
      ]
     },
     "execution_count": 75,
     "metadata": {},
     "output_type": "execute_result"
    }
   ],
   "source": [
    "world_happiness.country_name.nunique()"
   ]
  },
  {
   "cell_type": "markdown",
   "metadata": {},
   "source": [
    "In order to make comparisons between the world happiness index and the population density we need to have the same number of countries and the same countries. Since it is there is a slight difference, we will need to drop some countries and regions from the population density data set, so we can compare the same. Also we will rename some of the countries in the world happiness index to make everything beautiful.\n",
    "\n",
    "The following cleaning of data was possible after 15 minutes of work off the notebook and with excel :)"
   ]
  },
  {
   "cell_type": "code",
   "execution_count": 76,
   "metadata": {},
   "outputs": [],
   "source": [
    "#remove the countries that are not present in the world_happiness index\n",
    "to_del_pop = population_density[population_density[\"country_name\"].isin([\"American Samoa\",\n",
    "\"Andorra\", \"Antigua and Barbuda\", \"Aruba\", \"Bahamas, The\", \"Barbados\", \"Bermuda\", \"British Virgin Islands\",\n",
    "\"Brunei Darussalam\", \"Cabo Verde\", \"Cayman Islands\", \"Channel Islands\", \"Curacao\", \"Dominica\", \"Equatorial Guinea\",\n",
    "\"Eritrea\", \"Faroe Islands\", \"Fiji\", \"French Polynesia\", \"Gibraltar\", \"Greenland\", \"Grenada\", \"Guam\", \"Guinea-Bissau\",\n",
    "\"Isle of Man\", \"Kiribati\", \"Korea, Dem. People’s Rep.\", \"Liechtenstein\", \"Macao SAR, China\", \"Maldives\", \"Marshall Islands\",\n",
    "\"Micronesia, Fed. Sts.\", \"Monaco\", \"Nauru\", \"New Caledonia\", \"Northern Mariana Islands\", \"Palau\", \"Papua New Guinea\",\n",
    "\"Puerto Rico\", \"Samoa\", \"San Marino\", \"Sao Tome and Principe\", \"Seychelles\", \"Sint Maarten (Dutch part)\", \"Solomon Islands\",\n",
    "\"St. Kitts and Nevis\", \"St. Lucia\", \"St. Martin (French part)\", \"St. Vincent and the Grenadines\", \"Timor-Leste\",\n",
    "\"Tonga\", \"Turks and Caicos Islands\", \"Tuvalu\", \"Vanuatu\", \"Virgin Islands (U.S.)\"])].index.tolist()\n",
    "population_density = population_density.drop(to_del_pop)"
   ]
  },
  {
   "cell_type": "code",
   "execution_count": 77,
   "metadata": {},
   "outputs": [
    {
     "data": {
      "text/plain": [
       "162"
      ]
     },
     "execution_count": 77,
     "metadata": {},
     "output_type": "execute_result"
    }
   ],
   "source": [
    "population_density[\"country_name\"].nunique()"
   ]
  },
  {
   "cell_type": "code",
   "execution_count": 78,
   "metadata": {},
   "outputs": [],
   "source": [
    "#Rename countries to match the same names in all data sets\n",
    "world_happiness[\"country_name\"] = world_happiness[\"country_name\"].replace({\n",
    "    \"Ivory Coast\": \"Cote d'Ivoire\",\n",
    "    \"Swaziland\": \"Eswatini\",\n",
    "    \"Hong Kong S.A.R. of China\": \"Hong Kong SAR, China\",\n",
    "    \"South Korea\": \"Korea, Rep.\",\n",
    "    \"Kyrgyzstan\": \"Kyrgyz Republic\",\n",
    "    \"Laos\": \"Lao PDR\",\n",
    "    \"Macedonia\": \"North Macedonia\",\n",
    "    \"Russia\": \"Russian Federation\",\n",
    "    \"Slovakia\": \"Slovak Republic\",\n",
    "    \"Syria\": \"Syrian Arab Republic\",\n",
    "    \"Palestinian Territories\": \"West Bank and Gaza\",\n",
    "    \"Congo (Brazzaville)\": \"Congo, Rep.\",\n",
    "    'Congo (Kinshasa)': \"Congo, Dem. Rep.\",\n",
    "    'Egypt': 'Egypt, Arab Rep.',\n",
    "    'Gambia': 'Gambia, The', \n",
    "    'Iran': 'Iran, Islamic Rep.',\n",
    "    'Venezuela': 'Venezuela, RB',\n",
    "    'Yemen': 'Yemen, Rep.',\n",
    "})"
   ]
  },
  {
   "cell_type": "code",
   "execution_count": 79,
   "metadata": {},
   "outputs": [],
   "source": [
    "world_happiness.sort_values(by = [\"country_name\", \"year\"], inplace = True)"
   ]
  },
  {
   "cell_type": "code",
   "execution_count": 80,
   "metadata": {},
   "outputs": [
    {
     "data": {
      "text/plain": [
       "162"
      ]
     },
     "execution_count": 80,
     "metadata": {},
     "output_type": "execute_result"
    }
   ],
   "source": [
    "to_del = world_happiness[world_happiness[\"country_name\"].isin([\"North Cyprus\", \"Somaliland region\", \"Taiwan Province of China\"])].index.tolist()\n",
    "world_happiness = world_happiness.drop(to_del)\n",
    "world_happiness[\"country_name\"].nunique()"
   ]
  },
  {
   "cell_type": "markdown",
   "metadata": {},
   "source": [
    "Now we will check for NaN values and make further processing of the population density data."
   ]
  },
  {
   "cell_type": "code",
   "execution_count": 81,
   "metadata": {},
   "outputs": [
    {
     "data": {
      "text/plain": [
       "[2005, 2006, 2007, 2008, 2009, ..., 2013, 2014, 2015, 2016, 2017]\n",
       "Length: 13\n",
       "Categories (13, object): [2005, 2006, 2007, 2008, ..., 2014, 2015, 2016, 2017]"
      ]
     },
     "execution_count": 81,
     "metadata": {},
     "output_type": "execute_result"
    }
   ],
   "source": [
    "population_density.year.unique()"
   ]
  },
  {
   "cell_type": "markdown",
   "metadata": {},
   "source": [
    "The dataset includes only the period from 2005 to 2018. We will drop 2018 from the world_happiness data set."
   ]
  },
  {
   "cell_type": "code",
   "execution_count": 82,
   "metadata": {},
   "outputs": [
    {
     "data": {
      "text/plain": [
       "array([2008, 2009, 2010, 2011, 2012, 2013, 2014, 2015, 2016, 2017, 2007,\n",
       "       2006, 2005], dtype=int64)"
      ]
     },
     "execution_count": 82,
     "metadata": {},
     "output_type": "execute_result"
    }
   ],
   "source": [
    "to_del_2018 = world_happiness[world_happiness.year.isin([2018])].index.tolist()\n",
    "\n",
    "#drop it \n",
    "world_happiness = world_happiness.drop(to_del_2018)\n",
    "\n",
    "#done\n",
    "world_happiness.year.unique()"
   ]
  },
  {
   "cell_type": "code",
   "execution_count": 83,
   "metadata": {},
   "outputs": [
    {
     "data": {
      "text/plain": [
       "26"
      ]
     },
     "execution_count": 83,
     "metadata": {},
     "output_type": "execute_result"
    }
   ],
   "source": [
    "population_density.isna().values.sum()"
   ]
  },
  {
   "cell_type": "code",
   "execution_count": 84,
   "metadata": {},
   "outputs": [
    {
     "data": {
      "text/html": [
       "<div>\n",
       "<style scoped>\n",
       "    .dataframe tbody tr th:only-of-type {\n",
       "        vertical-align: middle;\n",
       "    }\n",
       "\n",
       "    .dataframe tbody tr th {\n",
       "        vertical-align: top;\n",
       "    }\n",
       "\n",
       "    .dataframe thead th {\n",
       "        text-align: right;\n",
       "    }\n",
       "</style>\n",
       "<table border=\"1\" class=\"dataframe\">\n",
       "  <thead>\n",
       "    <tr style=\"text-align: right;\">\n",
       "      <th></th>\n",
       "      <th>country_name</th>\n",
       "      <th>country_code</th>\n",
       "      <th>Series Name</th>\n",
       "      <th>year</th>\n",
       "      <th>population_density_(people per sq. km)</th>\n",
       "    </tr>\n",
       "  </thead>\n",
       "  <tbody>\n",
       "    <tr>\n",
       "      <th>178</th>\n",
       "      <td>South Sudan</td>\n",
       "      <td>SSD</td>\n",
       "      <td>Population density (people per sq. km of land ...</td>\n",
       "      <td>2005</td>\n",
       "      <td>NaN</td>\n",
       "    </tr>\n",
       "    <tr>\n",
       "      <th>395</th>\n",
       "      <td>South Sudan</td>\n",
       "      <td>SSD</td>\n",
       "      <td>Population density (people per sq. km of land ...</td>\n",
       "      <td>2006</td>\n",
       "      <td>NaN</td>\n",
       "    </tr>\n",
       "    <tr>\n",
       "      <th>612</th>\n",
       "      <td>South Sudan</td>\n",
       "      <td>SSD</td>\n",
       "      <td>Population density (people per sq. km of land ...</td>\n",
       "      <td>2007</td>\n",
       "      <td>NaN</td>\n",
       "    </tr>\n",
       "    <tr>\n",
       "      <th>829</th>\n",
       "      <td>South Sudan</td>\n",
       "      <td>SSD</td>\n",
       "      <td>Population density (people per sq. km of land ...</td>\n",
       "      <td>2008</td>\n",
       "      <td>NaN</td>\n",
       "    </tr>\n",
       "    <tr>\n",
       "      <th>1046</th>\n",
       "      <td>South Sudan</td>\n",
       "      <td>SSD</td>\n",
       "      <td>Population density (people per sq. km of land ...</td>\n",
       "      <td>2009</td>\n",
       "      <td>NaN</td>\n",
       "    </tr>\n",
       "    <tr>\n",
       "      <th>1263</th>\n",
       "      <td>South Sudan</td>\n",
       "      <td>SSD</td>\n",
       "      <td>Population density (people per sq. km of land ...</td>\n",
       "      <td>2010</td>\n",
       "      <td>NaN</td>\n",
       "    </tr>\n",
       "    <tr>\n",
       "      <th>1480</th>\n",
       "      <td>South Sudan</td>\n",
       "      <td>SSD</td>\n",
       "      <td>Population density (people per sq. km of land ...</td>\n",
       "      <td>2011</td>\n",
       "      <td>NaN</td>\n",
       "    </tr>\n",
       "    <tr>\n",
       "      <th>1697</th>\n",
       "      <td>South Sudan</td>\n",
       "      <td>SSD</td>\n",
       "      <td>Population density (people per sq. km of land ...</td>\n",
       "      <td>2012</td>\n",
       "      <td>NaN</td>\n",
       "    </tr>\n",
       "    <tr>\n",
       "      <th>1914</th>\n",
       "      <td>South Sudan</td>\n",
       "      <td>SSD</td>\n",
       "      <td>Population density (people per sq. km of land ...</td>\n",
       "      <td>2013</td>\n",
       "      <td>NaN</td>\n",
       "    </tr>\n",
       "    <tr>\n",
       "      <th>2131</th>\n",
       "      <td>South Sudan</td>\n",
       "      <td>SSD</td>\n",
       "      <td>Population density (people per sq. km of land ...</td>\n",
       "      <td>2014</td>\n",
       "      <td>NaN</td>\n",
       "    </tr>\n",
       "    <tr>\n",
       "      <th>2348</th>\n",
       "      <td>South Sudan</td>\n",
       "      <td>SSD</td>\n",
       "      <td>Population density (people per sq. km of land ...</td>\n",
       "      <td>2015</td>\n",
       "      <td>NaN</td>\n",
       "    </tr>\n",
       "    <tr>\n",
       "      <th>2565</th>\n",
       "      <td>South Sudan</td>\n",
       "      <td>SSD</td>\n",
       "      <td>Population density (people per sq. km of land ...</td>\n",
       "      <td>2016</td>\n",
       "      <td>NaN</td>\n",
       "    </tr>\n",
       "    <tr>\n",
       "      <th>2782</th>\n",
       "      <td>South Sudan</td>\n",
       "      <td>SSD</td>\n",
       "      <td>Population density (people per sq. km of land ...</td>\n",
       "      <td>2017</td>\n",
       "      <td>NaN</td>\n",
       "    </tr>\n",
       "    <tr>\n",
       "      <th>185</th>\n",
       "      <td>Sudan</td>\n",
       "      <td>SDN</td>\n",
       "      <td>Population density (people per sq. km of land ...</td>\n",
       "      <td>2005</td>\n",
       "      <td>NaN</td>\n",
       "    </tr>\n",
       "    <tr>\n",
       "      <th>402</th>\n",
       "      <td>Sudan</td>\n",
       "      <td>SDN</td>\n",
       "      <td>Population density (people per sq. km of land ...</td>\n",
       "      <td>2006</td>\n",
       "      <td>NaN</td>\n",
       "    </tr>\n",
       "    <tr>\n",
       "      <th>619</th>\n",
       "      <td>Sudan</td>\n",
       "      <td>SDN</td>\n",
       "      <td>Population density (people per sq. km of land ...</td>\n",
       "      <td>2007</td>\n",
       "      <td>NaN</td>\n",
       "    </tr>\n",
       "    <tr>\n",
       "      <th>836</th>\n",
       "      <td>Sudan</td>\n",
       "      <td>SDN</td>\n",
       "      <td>Population density (people per sq. km of land ...</td>\n",
       "      <td>2008</td>\n",
       "      <td>NaN</td>\n",
       "    </tr>\n",
       "    <tr>\n",
       "      <th>1053</th>\n",
       "      <td>Sudan</td>\n",
       "      <td>SDN</td>\n",
       "      <td>Population density (people per sq. km of land ...</td>\n",
       "      <td>2009</td>\n",
       "      <td>NaN</td>\n",
       "    </tr>\n",
       "    <tr>\n",
       "      <th>1270</th>\n",
       "      <td>Sudan</td>\n",
       "      <td>SDN</td>\n",
       "      <td>Population density (people per sq. km of land ...</td>\n",
       "      <td>2010</td>\n",
       "      <td>NaN</td>\n",
       "    </tr>\n",
       "    <tr>\n",
       "      <th>1487</th>\n",
       "      <td>Sudan</td>\n",
       "      <td>SDN</td>\n",
       "      <td>Population density (people per sq. km of land ...</td>\n",
       "      <td>2011</td>\n",
       "      <td>NaN</td>\n",
       "    </tr>\n",
       "    <tr>\n",
       "      <th>1704</th>\n",
       "      <td>Sudan</td>\n",
       "      <td>SDN</td>\n",
       "      <td>Population density (people per sq. km of land ...</td>\n",
       "      <td>2012</td>\n",
       "      <td>NaN</td>\n",
       "    </tr>\n",
       "    <tr>\n",
       "      <th>1921</th>\n",
       "      <td>Sudan</td>\n",
       "      <td>SDN</td>\n",
       "      <td>Population density (people per sq. km of land ...</td>\n",
       "      <td>2013</td>\n",
       "      <td>NaN</td>\n",
       "    </tr>\n",
       "    <tr>\n",
       "      <th>2138</th>\n",
       "      <td>Sudan</td>\n",
       "      <td>SDN</td>\n",
       "      <td>Population density (people per sq. km of land ...</td>\n",
       "      <td>2014</td>\n",
       "      <td>NaN</td>\n",
       "    </tr>\n",
       "    <tr>\n",
       "      <th>2355</th>\n",
       "      <td>Sudan</td>\n",
       "      <td>SDN</td>\n",
       "      <td>Population density (people per sq. km of land ...</td>\n",
       "      <td>2015</td>\n",
       "      <td>NaN</td>\n",
       "    </tr>\n",
       "    <tr>\n",
       "      <th>2572</th>\n",
       "      <td>Sudan</td>\n",
       "      <td>SDN</td>\n",
       "      <td>Population density (people per sq. km of land ...</td>\n",
       "      <td>2016</td>\n",
       "      <td>NaN</td>\n",
       "    </tr>\n",
       "    <tr>\n",
       "      <th>2789</th>\n",
       "      <td>Sudan</td>\n",
       "      <td>SDN</td>\n",
       "      <td>Population density (people per sq. km of land ...</td>\n",
       "      <td>2017</td>\n",
       "      <td>NaN</td>\n",
       "    </tr>\n",
       "  </tbody>\n",
       "</table>\n",
       "</div>"
      ],
      "text/plain": [
       "     country_name country_code  \\\n",
       "178   South Sudan          SSD   \n",
       "395   South Sudan          SSD   \n",
       "612   South Sudan          SSD   \n",
       "829   South Sudan          SSD   \n",
       "1046  South Sudan          SSD   \n",
       "1263  South Sudan          SSD   \n",
       "1480  South Sudan          SSD   \n",
       "1697  South Sudan          SSD   \n",
       "1914  South Sudan          SSD   \n",
       "2131  South Sudan          SSD   \n",
       "2348  South Sudan          SSD   \n",
       "2565  South Sudan          SSD   \n",
       "2782  South Sudan          SSD   \n",
       "185         Sudan          SDN   \n",
       "402         Sudan          SDN   \n",
       "619         Sudan          SDN   \n",
       "836         Sudan          SDN   \n",
       "1053        Sudan          SDN   \n",
       "1270        Sudan          SDN   \n",
       "1487        Sudan          SDN   \n",
       "1704        Sudan          SDN   \n",
       "1921        Sudan          SDN   \n",
       "2138        Sudan          SDN   \n",
       "2355        Sudan          SDN   \n",
       "2572        Sudan          SDN   \n",
       "2789        Sudan          SDN   \n",
       "\n",
       "                                            Series Name   year  \\\n",
       "178   Population density (people per sq. km of land ...  2005    \n",
       "395   Population density (people per sq. km of land ...  2006    \n",
       "612   Population density (people per sq. km of land ...  2007    \n",
       "829   Population density (people per sq. km of land ...  2008    \n",
       "1046  Population density (people per sq. km of land ...  2009    \n",
       "1263  Population density (people per sq. km of land ...  2010    \n",
       "1480  Population density (people per sq. km of land ...  2011    \n",
       "1697  Population density (people per sq. km of land ...  2012    \n",
       "1914  Population density (people per sq. km of land ...  2013    \n",
       "2131  Population density (people per sq. km of land ...  2014    \n",
       "2348  Population density (people per sq. km of land ...  2015    \n",
       "2565  Population density (people per sq. km of land ...  2016    \n",
       "2782  Population density (people per sq. km of land ...  2017    \n",
       "185   Population density (people per sq. km of land ...  2005    \n",
       "402   Population density (people per sq. km of land ...  2006    \n",
       "619   Population density (people per sq. km of land ...  2007    \n",
       "836   Population density (people per sq. km of land ...  2008    \n",
       "1053  Population density (people per sq. km of land ...  2009    \n",
       "1270  Population density (people per sq. km of land ...  2010    \n",
       "1487  Population density (people per sq. km of land ...  2011    \n",
       "1704  Population density (people per sq. km of land ...  2012    \n",
       "1921  Population density (people per sq. km of land ...  2013    \n",
       "2138  Population density (people per sq. km of land ...  2014    \n",
       "2355  Population density (people per sq. km of land ...  2015    \n",
       "2572  Population density (people per sq. km of land ...  2016    \n",
       "2789  Population density (people per sq. km of land ...  2017    \n",
       "\n",
       "      population_density_(people per sq. km)  \n",
       "178                                      NaN  \n",
       "395                                      NaN  \n",
       "612                                      NaN  \n",
       "829                                      NaN  \n",
       "1046                                     NaN  \n",
       "1263                                     NaN  \n",
       "1480                                     NaN  \n",
       "1697                                     NaN  \n",
       "1914                                     NaN  \n",
       "2131                                     NaN  \n",
       "2348                                     NaN  \n",
       "2565                                     NaN  \n",
       "2782                                     NaN  \n",
       "185                                      NaN  \n",
       "402                                      NaN  \n",
       "619                                      NaN  \n",
       "836                                      NaN  \n",
       "1053                                     NaN  \n",
       "1270                                     NaN  \n",
       "1487                                     NaN  \n",
       "1704                                     NaN  \n",
       "1921                                     NaN  \n",
       "2138                                     NaN  \n",
       "2355                                     NaN  \n",
       "2572                                     NaN  \n",
       "2789                                     NaN  "
      ]
     },
     "execution_count": 84,
     "metadata": {},
     "output_type": "execute_result"
    }
   ],
   "source": [
    "population_density[population_density.isna().any(axis = 1)]"
   ]
  },
  {
   "cell_type": "markdown",
   "metadata": {},
   "source": [
    "There is no information about these two countries for the whole period. \n",
    "- South Sudan declared [independance from Republic of the Sudan in 2011](https://en.wikipedia.org/wiki/South_Sudan). This make it impossible to get real past data for the whole period we examining. We will drop this country from our data sets.\n",
    "- For Sudan we will add information from [indexmundi](https://www.indexmundi.com/facts/sudan/population-density) - for the period from 2005 to 2016 and add data for 2017 we will estimate based on the average change in population density over the years."
   ]
  },
  {
   "cell_type": "code",
   "execution_count": 85,
   "metadata": {},
   "outputs": [],
   "source": [
    "#remove South Sudan\n",
    "to_del_country_no_info = population_density[population_density[\"country_name\"].isin([\"South Sudan\"])].index.tolist()\n",
    "population_density.drop(to_del_country_no_info, inplace = True)\n",
    "to_del_country_no_info = world_happiness[world_happiness[\"country_name\"].isin([\"South Sudan\"])].index.tolist()\n",
    "world_happiness.drop(to_del_country_no_info, inplace = True)"
   ]
  },
  {
   "cell_type": "code",
   "execution_count": 86,
   "metadata": {},
   "outputs": [
    {
     "name": "stdout",
     "output_type": "stream",
     "text": [
      "<class 'pandas.core.frame.DataFrame'>\n",
      "RangeIndex: 13 entries, 0 to 12\n",
      "Data columns (total 2 columns):\n",
      "year                            13 non-null int64\n",
      "population_density_per_sq_km    12 non-null float64\n",
      "dtypes: float64(1), int64(1)\n",
      "memory usage: 288.0 bytes\n"
     ]
    }
   ],
   "source": [
    "#add values in Sudan\n",
    "# initialize list of lists \n",
    "data_population = [\n",
    "    [2005, 16.87],\n",
    "    [2006, 17.36],\n",
    "    [2007, 17.87],\n",
    "    [2008, 18.38],\n",
    "    [2009, 18.91],\n",
    "    [2010, 19.43],\n",
    "    [2011, 19.96],\n",
    "    [2012, 20.49],\n",
    "    [2013, 21.03],\n",
    "    [2014, 21.57],\n",
    "    [2015, 22.13],\n",
    "    [2016, 22.69],\n",
    "    [2017, ]] \n",
    "  \n",
    "# Create the pandas DataFrame \n",
    "df_sudan = pd.DataFrame(data_population, columns = ['year', 'population_density_per_sq_km'], )\n",
    "df_sudan.info()"
   ]
  },
  {
   "cell_type": "code",
   "execution_count": 87,
   "metadata": {},
   "outputs": [
    {
     "data": {
      "image/png": "[encoded data removed]",
      "text/plain": [
       "<Figure size 576x432 with 1 Axes>"
      ]
     },
     "metadata": {
      "needs_background": "light"
     },
     "output_type": "display_data"
    }
   ],
   "source": [
    "df_sudan[\"population_density_per_sq_km\"].diff().plot(figsize=(8,6), linewidth=5, fontsize=10, label = \"diff between every two periods (period = 1 year)\")\n",
    "plt.title(\"Change in population density in Sudan\")\n",
    "plt.xlabel('year', fontsize=10)\n",
    "plt.ylabel('change for one period', fontsize = 10)\n",
    "plt.legend(loc=2)\n",
    "plt.show()"
   ]
  },
  {
   "cell_type": "code",
   "execution_count": 88,
   "metadata": {},
   "outputs": [
    {
     "data": {
      "text/plain": [
       "0.5290909090909092"
      ]
     },
     "execution_count": 88,
     "metadata": {},
     "output_type": "execute_result"
    }
   ],
   "source": [
    "mean_diff = df_sudan[\"population_density_per_sq_km\"].diff().mean()\n",
    "mean_diff"
   ]
  },
  {
   "cell_type": "code",
   "execution_count": 89,
   "metadata": {},
   "outputs": [
    {
     "data": {
      "text/html": [
       "<div>\n",
       "<style scoped>\n",
       "    .dataframe tbody tr th:only-of-type {\n",
       "        vertical-align: middle;\n",
       "    }\n",
       "\n",
       "    .dataframe tbody tr th {\n",
       "        vertical-align: top;\n",
       "    }\n",
       "\n",
       "    .dataframe thead th {\n",
       "        text-align: right;\n",
       "    }\n",
       "</style>\n",
       "<table border=\"1\" class=\"dataframe\">\n",
       "  <thead>\n",
       "    <tr style=\"text-align: right;\">\n",
       "      <th></th>\n",
       "      <th>year</th>\n",
       "      <th>population_density_per_sq_km</th>\n",
       "    </tr>\n",
       "  </thead>\n",
       "  <tbody>\n",
       "    <tr>\n",
       "      <th>0</th>\n",
       "      <td>2005</td>\n",
       "      <td>16.87</td>\n",
       "    </tr>\n",
       "    <tr>\n",
       "      <th>1</th>\n",
       "      <td>2006</td>\n",
       "      <td>17.36</td>\n",
       "    </tr>\n",
       "    <tr>\n",
       "      <th>2</th>\n",
       "      <td>2007</td>\n",
       "      <td>17.87</td>\n",
       "    </tr>\n",
       "    <tr>\n",
       "      <th>3</th>\n",
       "      <td>2008</td>\n",
       "      <td>18.38</td>\n",
       "    </tr>\n",
       "    <tr>\n",
       "      <th>4</th>\n",
       "      <td>2009</td>\n",
       "      <td>18.91</td>\n",
       "    </tr>\n",
       "    <tr>\n",
       "      <th>5</th>\n",
       "      <td>2010</td>\n",
       "      <td>19.43</td>\n",
       "    </tr>\n",
       "    <tr>\n",
       "      <th>6</th>\n",
       "      <td>2011</td>\n",
       "      <td>19.96</td>\n",
       "    </tr>\n",
       "    <tr>\n",
       "      <th>7</th>\n",
       "      <td>2012</td>\n",
       "      <td>20.49</td>\n",
       "    </tr>\n",
       "    <tr>\n",
       "      <th>8</th>\n",
       "      <td>2013</td>\n",
       "      <td>21.03</td>\n",
       "    </tr>\n",
       "    <tr>\n",
       "      <th>9</th>\n",
       "      <td>2014</td>\n",
       "      <td>21.57</td>\n",
       "    </tr>\n",
       "    <tr>\n",
       "      <th>10</th>\n",
       "      <td>2015</td>\n",
       "      <td>22.13</td>\n",
       "    </tr>\n",
       "    <tr>\n",
       "      <th>11</th>\n",
       "      <td>2016</td>\n",
       "      <td>22.69</td>\n",
       "    </tr>\n",
       "    <tr>\n",
       "      <th>12</th>\n",
       "      <td>2017</td>\n",
       "      <td>23.22</td>\n",
       "    </tr>\n",
       "  </tbody>\n",
       "</table>\n",
       "</div>"
      ],
      "text/plain": [
       "    year  population_density_per_sq_km\n",
       "0   2005                         16.87\n",
       "1   2006                         17.36\n",
       "2   2007                         17.87\n",
       "3   2008                         18.38\n",
       "4   2009                         18.91\n",
       "5   2010                         19.43\n",
       "6   2011                         19.96\n",
       "7   2012                         20.49\n",
       "8   2013                         21.03\n",
       "9   2014                         21.57\n",
       "10  2015                         22.13\n",
       "11  2016                         22.69\n",
       "12  2017                         23.22"
      ]
     },
     "execution_count": 89,
     "metadata": {},
     "output_type": "execute_result"
    }
   ],
   "source": [
    "#let's get the data\n",
    "df_sudan.loc[df_sudan[\"year\"] == 2017, \"population_density_per_sq_km\"] = 22.69 + mean_diff\n",
    "df_sudan = df_sudan.round(2)\n",
    "df_sudan"
   ]
  },
  {
   "cell_type": "code",
   "execution_count": 90,
   "metadata": {},
   "outputs": [],
   "source": [
    "#Add to the main data set/ fill na\n",
    "for row, j in zip(population_density.loc[population_density[\"population_density_(people per sq. km)\"].isnull(), 'population_density_(people per sq. km)'].index, df_sudan.population_density_per_sq_km):\n",
    "    population_density.at[row, 'population_density_(people per sq. km)'] = j"
   ]
  },
  {
   "cell_type": "code",
   "execution_count": 91,
   "metadata": {},
   "outputs": [
    {
     "data": {
      "text/html": [
       "<div>\n",
       "<style scoped>\n",
       "    .dataframe tbody tr th:only-of-type {\n",
       "        vertical-align: middle;\n",
       "    }\n",
       "\n",
       "    .dataframe tbody tr th {\n",
       "        vertical-align: top;\n",
       "    }\n",
       "\n",
       "    .dataframe thead th {\n",
       "        text-align: right;\n",
       "    }\n",
       "</style>\n",
       "<table border=\"1\" class=\"dataframe\">\n",
       "  <thead>\n",
       "    <tr style=\"text-align: right;\">\n",
       "      <th></th>\n",
       "      <th>country_name</th>\n",
       "      <th>country_code</th>\n",
       "      <th>Series Name</th>\n",
       "      <th>year</th>\n",
       "      <th>population_density_(people per sq. km)</th>\n",
       "    </tr>\n",
       "  </thead>\n",
       "  <tbody>\n",
       "    <tr>\n",
       "      <th>185</th>\n",
       "      <td>Sudan</td>\n",
       "      <td>SDN</td>\n",
       "      <td>Population density (people per sq. km of land ...</td>\n",
       "      <td>2005</td>\n",
       "      <td>16.87</td>\n",
       "    </tr>\n",
       "    <tr>\n",
       "      <th>402</th>\n",
       "      <td>Sudan</td>\n",
       "      <td>SDN</td>\n",
       "      <td>Population density (people per sq. km of land ...</td>\n",
       "      <td>2006</td>\n",
       "      <td>17.36</td>\n",
       "    </tr>\n",
       "    <tr>\n",
       "      <th>619</th>\n",
       "      <td>Sudan</td>\n",
       "      <td>SDN</td>\n",
       "      <td>Population density (people per sq. km of land ...</td>\n",
       "      <td>2007</td>\n",
       "      <td>17.87</td>\n",
       "    </tr>\n",
       "    <tr>\n",
       "      <th>836</th>\n",
       "      <td>Sudan</td>\n",
       "      <td>SDN</td>\n",
       "      <td>Population density (people per sq. km of land ...</td>\n",
       "      <td>2008</td>\n",
       "      <td>18.38</td>\n",
       "    </tr>\n",
       "    <tr>\n",
       "      <th>1053</th>\n",
       "      <td>Sudan</td>\n",
       "      <td>SDN</td>\n",
       "      <td>Population density (people per sq. km of land ...</td>\n",
       "      <td>2009</td>\n",
       "      <td>18.91</td>\n",
       "    </tr>\n",
       "    <tr>\n",
       "      <th>1270</th>\n",
       "      <td>Sudan</td>\n",
       "      <td>SDN</td>\n",
       "      <td>Population density (people per sq. km of land ...</td>\n",
       "      <td>2010</td>\n",
       "      <td>19.43</td>\n",
       "    </tr>\n",
       "    <tr>\n",
       "      <th>1487</th>\n",
       "      <td>Sudan</td>\n",
       "      <td>SDN</td>\n",
       "      <td>Population density (people per sq. km of land ...</td>\n",
       "      <td>2011</td>\n",
       "      <td>19.96</td>\n",
       "    </tr>\n",
       "    <tr>\n",
       "      <th>1704</th>\n",
       "      <td>Sudan</td>\n",
       "      <td>SDN</td>\n",
       "      <td>Population density (people per sq. km of land ...</td>\n",
       "      <td>2012</td>\n",
       "      <td>20.49</td>\n",
       "    </tr>\n",
       "    <tr>\n",
       "      <th>1921</th>\n",
       "      <td>Sudan</td>\n",
       "      <td>SDN</td>\n",
       "      <td>Population density (people per sq. km of land ...</td>\n",
       "      <td>2013</td>\n",
       "      <td>21.03</td>\n",
       "    </tr>\n",
       "    <tr>\n",
       "      <th>2138</th>\n",
       "      <td>Sudan</td>\n",
       "      <td>SDN</td>\n",
       "      <td>Population density (people per sq. km of land ...</td>\n",
       "      <td>2014</td>\n",
       "      <td>21.57</td>\n",
       "    </tr>\n",
       "    <tr>\n",
       "      <th>2355</th>\n",
       "      <td>Sudan</td>\n",
       "      <td>SDN</td>\n",
       "      <td>Population density (people per sq. km of land ...</td>\n",
       "      <td>2015</td>\n",
       "      <td>22.13</td>\n",
       "    </tr>\n",
       "    <tr>\n",
       "      <th>2572</th>\n",
       "      <td>Sudan</td>\n",
       "      <td>SDN</td>\n",
       "      <td>Population density (people per sq. km of land ...</td>\n",
       "      <td>2016</td>\n",
       "      <td>22.69</td>\n",
       "    </tr>\n",
       "    <tr>\n",
       "      <th>2789</th>\n",
       "      <td>Sudan</td>\n",
       "      <td>SDN</td>\n",
       "      <td>Population density (people per sq. km of land ...</td>\n",
       "      <td>2017</td>\n",
       "      <td>23.22</td>\n",
       "    </tr>\n",
       "  </tbody>\n",
       "</table>\n",
       "</div>"
      ],
      "text/plain": [
       "     country_name country_code  \\\n",
       "185         Sudan          SDN   \n",
       "402         Sudan          SDN   \n",
       "619         Sudan          SDN   \n",
       "836         Sudan          SDN   \n",
       "1053        Sudan          SDN   \n",
       "1270        Sudan          SDN   \n",
       "1487        Sudan          SDN   \n",
       "1704        Sudan          SDN   \n",
       "1921        Sudan          SDN   \n",
       "2138        Sudan          SDN   \n",
       "2355        Sudan          SDN   \n",
       "2572        Sudan          SDN   \n",
       "2789        Sudan          SDN   \n",
       "\n",
       "                                            Series Name   year  \\\n",
       "185   Population density (people per sq. km of land ...  2005    \n",
       "402   Population density (people per sq. km of land ...  2006    \n",
       "619   Population density (people per sq. km of land ...  2007    \n",
       "836   Population density (people per sq. km of land ...  2008    \n",
       "1053  Population density (people per sq. km of land ...  2009    \n",
       "1270  Population density (people per sq. km of land ...  2010    \n",
       "1487  Population density (people per sq. km of land ...  2011    \n",
       "1704  Population density (people per sq. km of land ...  2012    \n",
       "1921  Population density (people per sq. km of land ...  2013    \n",
       "2138  Population density (people per sq. km of land ...  2014    \n",
       "2355  Population density (people per sq. km of land ...  2015    \n",
       "2572  Population density (people per sq. km of land ...  2016    \n",
       "2789  Population density (people per sq. km of land ...  2017    \n",
       "\n",
       "      population_density_(people per sq. km)  \n",
       "185                                    16.87  \n",
       "402                                    17.36  \n",
       "619                                    17.87  \n",
       "836                                    18.38  \n",
       "1053                                   18.91  \n",
       "1270                                   19.43  \n",
       "1487                                   19.96  \n",
       "1704                                   20.49  \n",
       "1921                                   21.03  \n",
       "2138                                   21.57  \n",
       "2355                                   22.13  \n",
       "2572                                   22.69  \n",
       "2789                                   23.22  "
      ]
     },
     "execution_count": 91,
     "metadata": {},
     "output_type": "execute_result"
    }
   ],
   "source": [
    "population_density[population_density[\"country_name\"] == \"Sudan\"]"
   ]
  },
  {
   "cell_type": "code",
   "execution_count": 92,
   "metadata": {},
   "outputs": [
    {
     "data": {
      "text/plain": [
       "country_name                              0\n",
       "country_code                              0\n",
       "Series Name                               0\n",
       "year                                      0\n",
       "population_density_(people per sq. km)    0\n",
       "dtype: int64"
      ]
     },
     "execution_count": 92,
     "metadata": {},
     "output_type": "execute_result"
    }
   ],
   "source": [
    "#finally got rid of the NaNs\n",
    "population_density.isna().sum()"
   ]
  },
  {
   "cell_type": "code",
   "execution_count": 93,
   "metadata": {},
   "outputs": [
    {
     "data": {
      "text/plain": [
       "(161, (2093, 5))"
      ]
     },
     "execution_count": 93,
     "metadata": {},
     "output_type": "execute_result"
    }
   ],
   "source": [
    "population_density.country_name.nunique(), population_density.shape"
   ]
  },
  {
   "cell_type": "code",
   "execution_count": 94,
   "metadata": {},
   "outputs": [
    {
     "data": {
      "text/plain": [
       "(161, (1545, 16))"
      ]
     },
     "execution_count": 94,
     "metadata": {},
     "output_type": "execute_result"
    }
   ],
   "source": [
    "world_happiness.country_name.nunique(), world_happiness.shape"
   ]
  },
  {
   "cell_type": "markdown",
   "metadata": {},
   "source": [
    "    Seems we have different size, we will have to deal with this later. "
   ]
  },
  {
   "cell_type": "code",
   "execution_count": 95,
   "metadata": {},
   "outputs": [
    {
     "data": {
      "image/png": "[encoded data removed]",
      "text/plain": [
       "<Figure size 800x480 with 1 Axes>"
      ]
     },
     "metadata": {},
     "output_type": "display_data"
    },
    {
     "data": {
      "text/plain": [
       "(2093,)"
      ]
     },
     "execution_count": 95,
     "metadata": {},
     "output_type": "execute_result"
    }
   ],
   "source": [
    "figure(num=None, figsize=(10, 6), dpi=80, facecolor='w', edgecolor='k')\n",
    "\n",
    "#Return array with rows, equal to the population_density\n",
    "color = np.random.rand(2093)\n",
    "#area = (30 * np.random.rand(2821))**2\n",
    "plt.scatter(population_density[\"year\"], population_density[\"population_density_(people per sq. km)\"], \n",
    "           c = color,\n",
    "           alpha = 0.5,\n",
    "           label = \"country population density per sq. km\")\n",
    "\n",
    "plt.xlabel(\"Years\")\n",
    "plt.ylabel(\"People per sq. km.\")\n",
    "plt.title(\"Population density over the years\")\n",
    "plt.legend(loc = 2)\n",
    "plt.show()\n",
    "\n",
    "\n",
    "#either put it in new row or remove it later\n",
    "#embed plot\n",
    "color.shape"
   ]
  },
  {
   "cell_type": "code",
   "execution_count": 96,
   "metadata": {},
   "outputs": [
    {
     "data": {
      "text/plain": [
       "(7915.73, 1.63)"
      ]
     },
     "execution_count": 96,
     "metadata": {},
     "output_type": "execute_result"
    }
   ],
   "source": [
    "#prove the scatter should look like this\n",
    "population_density[\"population_density_(people per sq. km)\"].max(), population_density[\"population_density_(people per sq. km)\"].min()"
   ]
  },
  {
   "cell_type": "markdown",
   "metadata": {},
   "source": [
    "    Some people live really close. There is clear enormous distinction between the most populated areas and the ones with    less than two people per sq. km. (yes, person and a half is fine here :)). "
   ]
  },
  {
   "cell_type": "code",
   "execution_count": 97,
   "metadata": {},
   "outputs": [
    {
     "data": {
      "text/plain": [
       "country_name                                                                      Singapore\n",
       "country_code                                                                            SGP\n",
       "Series Name                               Population density (people per sq. km of land ...\n",
       "year                                                                                  2017 \n",
       "population_density_(people per sq. km)                                              7915.73\n",
       "Name: 2775, dtype: object"
      ]
     },
     "execution_count": 97,
     "metadata": {},
     "output_type": "execute_result"
    }
   ],
   "source": [
    "population_density.loc[population_density[\"population_density_(people per sq. km)\"].idxmax()]"
   ]
  },
  {
   "cell_type": "code",
   "execution_count": 98,
   "metadata": {},
   "outputs": [
    {
     "data": {
      "text/plain": [
       "country_name                                                                       Mongolia\n",
       "country_code                                                                            MNG\n",
       "Series Name                               Population density (people per sq. km of land ...\n",
       "year                                                                                  2005 \n",
       "population_density_(people per sq. km)                                                 1.63\n",
       "Name: 131, dtype: object"
      ]
     },
     "execution_count": 98,
     "metadata": {},
     "output_type": "execute_result"
    }
   ],
   "source": [
    "population_density.loc[population_density[\"population_density_(people per sq. km)\"].idxmin()]"
   ]
  },
  {
   "cell_type": "code",
   "execution_count": 99,
   "metadata": {},
   "outputs": [
    {
     "data": {
      "text/plain": [
       "country_name\n",
       "Singapore               7252.032308\n",
       "Hong Kong SAR, China    6753.926923\n",
       "Bahrain                 1603.390769\n",
       "Malta                   1326.313077\n",
       "Bangladesh              1147.542308\n",
       "West Bank and Gaza       645.202308\n",
       "Mauritius                616.233846\n",
       "Lebanon                  539.365385\n",
       "Korea, Rep.              512.973846\n",
       "Netherlands              494.676154\n",
       "India                    419.513846\n",
       "Rwanda                   418.638462\n",
       "Comoros                  381.023077\n",
       "Haiti                    366.328462\n",
       "Belgium                  362.130769\n",
       "Name: population_density_(people per sq. km), dtype: float64"
      ]
     },
     "execution_count": 99,
     "metadata": {},
     "output_type": "execute_result"
    }
   ],
   "source": [
    "most_densed = population_density.groupby(\"country_name\")[\"population_density_(people per sq. km)\"].mean().sort_values(ascending = False)\n",
    "most_densed = most_densed.head(15)\n",
    "most_densed = most_densed.groupby(\"country_name\").mean().sort_values(ascending = False)\n",
    "most_densed"
   ]
  },
  {
   "cell_type": "code",
   "execution_count": 100,
   "metadata": {},
   "outputs": [
    {
     "data": {
      "text/plain": [
       "country_name\n",
       "Bolivia                     9.426154\n",
       "Russian Federation          8.754615\n",
       "Central African Republic    7.006154\n",
       "Gabon                       6.614615\n",
       "Kazakhstan                  6.128462\n",
       "Guyana                      3.840769\n",
       "Canada                      3.779231\n",
       "Botswana                    3.537692\n",
       "Libya                       3.531538\n",
       "Mauritania                  3.513077\n",
       "Suriname                    3.430000\n",
       "Iceland                     3.198462\n",
       "Australia                   2.914615\n",
       "Namibia                     2.623846\n",
       "Mongolia                    1.796154\n",
       "Name: population_density_(people per sq. km), dtype: float64"
      ]
     },
     "execution_count": 100,
     "metadata": {},
     "output_type": "execute_result"
    }
   ],
   "source": [
    "least_densed = population_density.groupby(\"country_name\")[\"population_density_(people per sq. km)\"].mean().sort_values(ascending = True)\n",
    "least_densed = least_densed.head(15)\n",
    "least_densed = least_densed.groupby(\"country_name\").mean().sort_values(ascending = False)\n",
    "least_densed"
   ]
  },
  {
   "cell_type": "markdown",
   "metadata": {},
   "source": [
    "It could be seen that some of the most developed countries - Canada, Australia, and Iceland have some space to share. \n",
    "Further we will ask the question stated in the begining of this work: Is happiness dependent on the \"free space\"?\n",
    "Do people feel more happy in less populated areas? First, we need to deal with the data sizes. \n",
    "Easiest way will be to merge the tables and to get only the values that match in the smaller table."
   ]
  },
  {
   "cell_type": "code",
   "execution_count": 101,
   "metadata": {},
   "outputs": [],
   "source": [
    "world_happiness=world_happiness.merge(population_density, on='country_name', how='left') "
   ]
  },
  {
   "cell_type": "code",
   "execution_count": 102,
   "metadata": {},
   "outputs": [
    {
     "data": {
      "text/html": [
       "<div>\n",
       "<style scoped>\n",
       "    .dataframe tbody tr th:only-of-type {\n",
       "        vertical-align: middle;\n",
       "    }\n",
       "\n",
       "    .dataframe tbody tr th {\n",
       "        vertical-align: top;\n",
       "    }\n",
       "\n",
       "    .dataframe thead th {\n",
       "        text-align: right;\n",
       "    }\n",
       "</style>\n",
       "<table border=\"1\" class=\"dataframe\">\n",
       "  <thead>\n",
       "    <tr style=\"text-align: right;\">\n",
       "      <th></th>\n",
       "      <th>country_name</th>\n",
       "      <th>year_x</th>\n",
       "      <th>life_ladder</th>\n",
       "      <th>log_GDP_per_capita</th>\n",
       "      <th>social_support</th>\n",
       "      <th>HLE_at_birth</th>\n",
       "      <th>freedom_to_make_life_choices</th>\n",
       "      <th>generosity</th>\n",
       "      <th>perceptions_of_corruption</th>\n",
       "      <th>positive_affect</th>\n",
       "      <th>negative_affect</th>\n",
       "      <th>confidence_in_national_government</th>\n",
       "      <th>democratic_quality</th>\n",
       "      <th>delivery_quality</th>\n",
       "      <th>SD_of_ladder_by_country_year</th>\n",
       "      <th>SD_mean_of_ladder_by_country_year</th>\n",
       "      <th>country_code</th>\n",
       "      <th>Series Name</th>\n",
       "      <th>year_y</th>\n",
       "      <th>population_density_(people per sq. km)</th>\n",
       "    </tr>\n",
       "  </thead>\n",
       "  <tbody>\n",
       "    <tr>\n",
       "      <th>0</th>\n",
       "      <td>Afghanistan</td>\n",
       "      <td>2008</td>\n",
       "      <td>3.724</td>\n",
       "      <td>7.169</td>\n",
       "      <td>0.451</td>\n",
       "      <td>50.8</td>\n",
       "      <td>0.718</td>\n",
       "      <td>0.178</td>\n",
       "      <td>0.882</td>\n",
       "      <td>0.518</td>\n",
       "      <td>0.258</td>\n",
       "      <td>0.612</td>\n",
       "      <td>-1.93</td>\n",
       "      <td>-1.655</td>\n",
       "      <td>1.775</td>\n",
       "      <td>0.477</td>\n",
       "      <td>AFG</td>\n",
       "      <td>Population density (people per sq. km of land ...</td>\n",
       "      <td>2005</td>\n",
       "      <td>39.30</td>\n",
       "    </tr>\n",
       "    <tr>\n",
       "      <th>1</th>\n",
       "      <td>Afghanistan</td>\n",
       "      <td>2008</td>\n",
       "      <td>3.724</td>\n",
       "      <td>7.169</td>\n",
       "      <td>0.451</td>\n",
       "      <td>50.8</td>\n",
       "      <td>0.718</td>\n",
       "      <td>0.178</td>\n",
       "      <td>0.882</td>\n",
       "      <td>0.518</td>\n",
       "      <td>0.258</td>\n",
       "      <td>0.612</td>\n",
       "      <td>-1.93</td>\n",
       "      <td>-1.655</td>\n",
       "      <td>1.775</td>\n",
       "      <td>0.477</td>\n",
       "      <td>AFG</td>\n",
       "      <td>Population density (people per sq. km of land ...</td>\n",
       "      <td>2006</td>\n",
       "      <td>40.49</td>\n",
       "    </tr>\n",
       "    <tr>\n",
       "      <th>2</th>\n",
       "      <td>Afghanistan</td>\n",
       "      <td>2008</td>\n",
       "      <td>3.724</td>\n",
       "      <td>7.169</td>\n",
       "      <td>0.451</td>\n",
       "      <td>50.8</td>\n",
       "      <td>0.718</td>\n",
       "      <td>0.178</td>\n",
       "      <td>0.882</td>\n",
       "      <td>0.518</td>\n",
       "      <td>0.258</td>\n",
       "      <td>0.612</td>\n",
       "      <td>-1.93</td>\n",
       "      <td>-1.655</td>\n",
       "      <td>1.775</td>\n",
       "      <td>0.477</td>\n",
       "      <td>AFG</td>\n",
       "      <td>Population density (people per sq. km of land ...</td>\n",
       "      <td>2007</td>\n",
       "      <td>41.51</td>\n",
       "    </tr>\n",
       "    <tr>\n",
       "      <th>3</th>\n",
       "      <td>Afghanistan</td>\n",
       "      <td>2008</td>\n",
       "      <td>3.724</td>\n",
       "      <td>7.169</td>\n",
       "      <td>0.451</td>\n",
       "      <td>50.8</td>\n",
       "      <td>0.718</td>\n",
       "      <td>0.178</td>\n",
       "      <td>0.882</td>\n",
       "      <td>0.518</td>\n",
       "      <td>0.258</td>\n",
       "      <td>0.612</td>\n",
       "      <td>-1.93</td>\n",
       "      <td>-1.655</td>\n",
       "      <td>1.775</td>\n",
       "      <td>0.477</td>\n",
       "      <td>AFG</td>\n",
       "      <td>Population density (people per sq. km of land ...</td>\n",
       "      <td>2008</td>\n",
       "      <td>42.46</td>\n",
       "    </tr>\n",
       "    <tr>\n",
       "      <th>4</th>\n",
       "      <td>Afghanistan</td>\n",
       "      <td>2008</td>\n",
       "      <td>3.724</td>\n",
       "      <td>7.169</td>\n",
       "      <td>0.451</td>\n",
       "      <td>50.8</td>\n",
       "      <td>0.718</td>\n",
       "      <td>0.178</td>\n",
       "      <td>0.882</td>\n",
       "      <td>0.518</td>\n",
       "      <td>0.258</td>\n",
       "      <td>0.612</td>\n",
       "      <td>-1.93</td>\n",
       "      <td>-1.655</td>\n",
       "      <td>1.775</td>\n",
       "      <td>0.477</td>\n",
       "      <td>AFG</td>\n",
       "      <td>Population density (people per sq. km of land ...</td>\n",
       "      <td>2009</td>\n",
       "      <td>43.49</td>\n",
       "    </tr>\n",
       "  </tbody>\n",
       "</table>\n",
       "</div>"
      ],
      "text/plain": [
       "  country_name  year_x  life_ladder  log_GDP_per_capita  social_support  \\\n",
       "0  Afghanistan    2008        3.724               7.169           0.451   \n",
       "1  Afghanistan    2008        3.724               7.169           0.451   \n",
       "2  Afghanistan    2008        3.724               7.169           0.451   \n",
       "3  Afghanistan    2008        3.724               7.169           0.451   \n",
       "4  Afghanistan    2008        3.724               7.169           0.451   \n",
       "\n",
       "   HLE_at_birth  freedom_to_make_life_choices  generosity  \\\n",
       "0          50.8                         0.718       0.178   \n",
       "1          50.8                         0.718       0.178   \n",
       "2          50.8                         0.718       0.178   \n",
       "3          50.8                         0.718       0.178   \n",
       "4          50.8                         0.718       0.178   \n",
       "\n",
       "   perceptions_of_corruption  positive_affect  negative_affect  \\\n",
       "0                      0.882            0.518            0.258   \n",
       "1                      0.882            0.518            0.258   \n",
       "2                      0.882            0.518            0.258   \n",
       "3                      0.882            0.518            0.258   \n",
       "4                      0.882            0.518            0.258   \n",
       "\n",
       "   confidence_in_national_government  democratic_quality  delivery_quality  \\\n",
       "0                              0.612               -1.93            -1.655   \n",
       "1                              0.612               -1.93            -1.655   \n",
       "2                              0.612               -1.93            -1.655   \n",
       "3                              0.612               -1.93            -1.655   \n",
       "4                              0.612               -1.93            -1.655   \n",
       "\n",
       "   SD_of_ladder_by_country_year  SD_mean_of_ladder_by_country_year  \\\n",
       "0                         1.775                              0.477   \n",
       "1                         1.775                              0.477   \n",
       "2                         1.775                              0.477   \n",
       "3                         1.775                              0.477   \n",
       "4                         1.775                              0.477   \n",
       "\n",
       "  country_code                                        Series Name year_y  \\\n",
       "0          AFG  Population density (people per sq. km of land ...  2005    \n",
       "1          AFG  Population density (people per sq. km of land ...  2006    \n",
       "2          AFG  Population density (people per sq. km of land ...  2007    \n",
       "3          AFG  Population density (people per sq. km of land ...  2008    \n",
       "4          AFG  Population density (people per sq. km of land ...  2009    \n",
       "\n",
       "   population_density_(people per sq. km)  \n",
       "0                                   39.30  \n",
       "1                                   40.49  \n",
       "2                                   41.51  \n",
       "3                                   42.46  \n",
       "4                                   43.49  "
      ]
     },
     "execution_count": 102,
     "metadata": {},
     "output_type": "execute_result"
    }
   ],
   "source": [
    "world_happiness.head()"
   ]
  },
  {
   "cell_type": "markdown",
   "metadata": {},
   "source": [
    "### Do people feel more happy in less populated areas? \n",
    "- H0: nothing interesting. \n",
    "- H1: there is a relationship\n",
    "\n",
    "significance level = 0.05\n",
    "\n",
    "We will perform [**independent t test**](https://pythonfordatascience.org/independent-t-test-python/) since the sources for the variables are different."
   ]
  },
  {
   "cell_type": "code",
   "execution_count": 103,
   "metadata": {},
   "outputs": [
    {
     "data": {
      "text/plain": [
       "0.0"
      ]
     },
     "execution_count": 103,
     "metadata": {},
     "output_type": "execute_result"
    }
   ],
   "source": [
    "st.ttest_ind(world_happiness.life_ladder, world_happiness[\"population_density_(people per sq. km)\"]).pvalue / 2"
   ]
  },
  {
   "cell_type": "markdown",
   "metadata": {},
   "source": [
    "The second zero for today (or at least the second so small number that we cannot see it). According to the test, we can reject the null hypothesys. This gives us ground for further research and digging in the issue. But let's plot another test by [**researchpy**](https://researchpy.readthedocs.io/en/latest/ttest_documentation.html) to see more information."
   ]
  },
  {
   "cell_type": "code",
   "execution_count": 104,
   "metadata": {},
   "outputs": [
    {
     "data": {
      "text/html": [
       "<div>\n",
       "<style scoped>\n",
       "    .dataframe tbody tr th:only-of-type {\n",
       "        vertical-align: middle;\n",
       "    }\n",
       "\n",
       "    .dataframe tbody tr th {\n",
       "        vertical-align: top;\n",
       "    }\n",
       "\n",
       "    .dataframe thead th {\n",
       "        text-align: right;\n",
       "    }\n",
       "</style>\n",
       "<table border=\"1\" class=\"dataframe\">\n",
       "  <thead>\n",
       "    <tr style=\"text-align: right;\">\n",
       "      <th></th>\n",
       "      <th>Variable</th>\n",
       "      <th>N</th>\n",
       "      <th>Mean</th>\n",
       "      <th>SD</th>\n",
       "      <th>SE</th>\n",
       "      <th>95% Conf.</th>\n",
       "      <th>Interval</th>\n",
       "    </tr>\n",
       "  </thead>\n",
       "  <tbody>\n",
       "    <tr>\n",
       "      <th>0</th>\n",
       "      <td>life_ladder</td>\n",
       "      <td>20085.0</td>\n",
       "      <td>5.432019</td>\n",
       "      <td>1.123194</td>\n",
       "      <td>0.007925</td>\n",
       "      <td>5.416485</td>\n",
       "      <td>5.447554</td>\n",
       "    </tr>\n",
       "    <tr>\n",
       "      <th>1</th>\n",
       "      <td>population_density_(people per sq. km)</td>\n",
       "      <td>20085.0</td>\n",
       "      <td>228.513161</td>\n",
       "      <td>809.074811</td>\n",
       "      <td>5.708904</td>\n",
       "      <td>217.323240</td>\n",
       "      <td>239.703082</td>\n",
       "    </tr>\n",
       "    <tr>\n",
       "      <th>2</th>\n",
       "      <td>combined</td>\n",
       "      <td>40170.0</td>\n",
       "      <td>116.972590</td>\n",
       "      <td>582.868009</td>\n",
       "      <td>2.908167</td>\n",
       "      <td>111.272516</td>\n",
       "      <td>122.672664</td>\n",
       "    </tr>\n",
       "  </tbody>\n",
       "</table>\n",
       "</div>"
      ],
      "text/plain": [
       "                                 Variable        N        Mean          SD  \\\n",
       "0                             life_ladder  20085.0    5.432019    1.123194   \n",
       "1  population_density_(people per sq. km)  20085.0  228.513161  809.074811   \n",
       "2                                combined  40170.0  116.972590  582.868009   \n",
       "\n",
       "         SE   95% Conf.    Interval  \n",
       "0  0.007925    5.416485    5.447554  \n",
       "1  5.708904  217.323240  239.703082  \n",
       "2  2.908167  111.272516  122.672664  "
      ]
     },
     "execution_count": 104,
     "metadata": {},
     "output_type": "execute_result"
    }
   ],
   "source": [
    "descriptives, results = rp.ttest(world_happiness.life_ladder, world_happiness[\"population_density_(people per sq. km)\"])\n",
    "descriptives"
   ]
  },
  {
   "cell_type": "code",
   "execution_count": 105,
   "metadata": {},
   "outputs": [
    {
     "data": {
      "text/html": [
       "<div>\n",
       "<style scoped>\n",
       "    .dataframe tbody tr th:only-of-type {\n",
       "        vertical-align: middle;\n",
       "    }\n",
       "\n",
       "    .dataframe tbody tr th {\n",
       "        vertical-align: top;\n",
       "    }\n",
       "\n",
       "    .dataframe thead th {\n",
       "        text-align: right;\n",
       "    }\n",
       "</style>\n",
       "<table border=\"1\" class=\"dataframe\">\n",
       "  <thead>\n",
       "    <tr style=\"text-align: right;\">\n",
       "      <th></th>\n",
       "      <th>Independent t-test</th>\n",
       "      <th>results</th>\n",
       "    </tr>\n",
       "  </thead>\n",
       "  <tbody>\n",
       "    <tr>\n",
       "      <th>0</th>\n",
       "      <td>Difference (life_ladder - population_density_(...</td>\n",
       "      <td>-223.0811</td>\n",
       "    </tr>\n",
       "    <tr>\n",
       "      <th>1</th>\n",
       "      <td>Degrees of freedom =</td>\n",
       "      <td>40168.0000</td>\n",
       "    </tr>\n",
       "    <tr>\n",
       "      <th>2</th>\n",
       "      <td>t =</td>\n",
       "      <td>-39.0760</td>\n",
       "    </tr>\n",
       "    <tr>\n",
       "      <th>3</th>\n",
       "      <td>Two side test p value =</td>\n",
       "      <td>0.0000</td>\n",
       "    </tr>\n",
       "    <tr>\n",
       "      <th>4</th>\n",
       "      <td>Difference &gt; 0 p value =</td>\n",
       "      <td>0.0000</td>\n",
       "    </tr>\n",
       "    <tr>\n",
       "      <th>5</th>\n",
       "      <td>Difference &lt; 0 p value =</td>\n",
       "      <td>1.0000</td>\n",
       "    </tr>\n",
       "    <tr>\n",
       "      <th>6</th>\n",
       "      <td>Cohen's d =</td>\n",
       "      <td>-0.3899</td>\n",
       "    </tr>\n",
       "    <tr>\n",
       "      <th>7</th>\n",
       "      <td>Hedge's g =</td>\n",
       "      <td>-0.3899</td>\n",
       "    </tr>\n",
       "    <tr>\n",
       "      <th>8</th>\n",
       "      <td>Glass's delta =</td>\n",
       "      <td>-198.6132</td>\n",
       "    </tr>\n",
       "    <tr>\n",
       "      <th>9</th>\n",
       "      <td>r =</td>\n",
       "      <td>0.1914</td>\n",
       "    </tr>\n",
       "  </tbody>\n",
       "</table>\n",
       "</div>"
      ],
      "text/plain": [
       "                                  Independent t-test     results\n",
       "0  Difference (life_ladder - population_density_(...   -223.0811\n",
       "1                              Degrees of freedom =   40168.0000\n",
       "2                                               t =     -39.0760\n",
       "3                           Two side test p value =       0.0000\n",
       "4                          Difference > 0 p value =       0.0000\n",
       "5                          Difference < 0 p value =       1.0000\n",
       "6                                       Cohen's d =      -0.3899\n",
       "7                                       Hedge's g =      -0.3899\n",
       "8                                   Glass's delta =    -198.6132\n",
       "9                                               r =       0.1914"
      ]
     },
     "execution_count": 105,
     "metadata": {},
     "output_type": "execute_result"
    }
   ],
   "source": [
    "results"
   ]
  },
  {
   "cell_type": "markdown",
   "metadata": {},
   "source": [
    "The result in this test is confirming the other but it gives more information about the information we compare, incl. mean, standard deviation, confidence intervals, and degrees of freedom. More information and documentation can be found [here.](https://researchpy.readthedocs.io/en/latest/ttest_documentation.html)\n",
    "\n",
    "Finally, we will check the correlation between the happiness index and the population density: "
   ]
  },
  {
   "cell_type": "code",
   "execution_count": 106,
   "metadata": {},
   "outputs": [
    {
     "data": {
      "text/plain": [
       "0.0714813324915958"
      ]
     },
     "execution_count": 106,
     "metadata": {},
     "output_type": "execute_result"
    }
   ],
   "source": [
    "world_happiness.life_ladder.corr(world_happiness[\"population_density_(people per sq. km)\"])"
   ]
  },
  {
   "cell_type": "markdown",
   "metadata": {},
   "source": [
    "The link between these two variables is positive but very weak, it could be ignored. As we saw above the highest gdp has more influence on the positive side.\n"
   ]
  },
  {
   "cell_type": "markdown",
   "metadata": {},
   "source": [
    "### Limitations\n",
    "\n",
    "The analysis that we made in this work are based on relatively small data sets. The further cleaning of the data and the filling of missing values additionaly made our work harder. We can assume that the conclusions could be significantly revised if we had more data to work with."
   ]
  },
  {
   "cell_type": "markdown",
   "metadata": {},
   "source": [
    "### Conclusions\n",
    "\n",
    "It would be much more satisfying if we had found stronger correlations between the variables we examined. The only big player we had in this analysis is the GDP per capita. A further research in this area may include comparisons of the happiness index with alcohol consumption and education, as well as deeper analysis of the key variables of the index and separate countries which stand out as most happy or least happy."
   ]
  },
  {
   "cell_type": "markdown",
   "metadata": {},
   "source": [
    "### References\n",
    "\n",
    "1. [World Happiness Report 2019](https://worldhappiness.report/ed/2019/)\n",
    "2. [Population density data from World Development Indicators](https://databank.worldbank.org/reports.aspx?source=world-development-indicators#selectedDimension_WDI_Time) - The World Bank"
   ]
  }
 ],
 "metadata": {
  "kernelspec": {
   "display_name": "Python 3",
   "language": "python",
   "name": "python3"
  },
  "language_info": {
   "codemirror_mode": {
    "name": "ipython",
    "version": 3
   },
   "file_extension": ".py",
   "mimetype": "text/x-python",
   "name": "python",
   "nbconvert_exporter": "python",
   "pygments_lexer": "ipython3",
   "version": "3.7.3"
  }
 },
 "nbformat": 4,
 "nbformat_minor": 2
}
